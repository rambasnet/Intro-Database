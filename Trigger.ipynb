{
 "cells": [
  {
   "cell_type": "markdown",
   "id": "9e890a5e",
   "metadata": {},
   "source": [
    "# Trigger\n",
    "\n",
    "- a database object that defines a set of actions to be performed automatically in response to a specific database event, such as an INSERT, UPDATE, DELETE, or even certain DDL (Data Definition Language) statements like CREATE or ALTER\n",
    "- Triggers are used to enforce business rules, maintain data integrity, and automate certain tasks without requiring manual intervention\n",
    "\n",
    "- trigger consists of two main components: \n",
    "    - **an event** that activates the trigger and a set of actions to be executed when the trigger is activated \n",
    "    - **actions** are written in the form of SQL statements, and they can include data modification statements (INSERT, UPDATE, SELECT, DELETE) or other operations.\n",
    "\n",
    "## CREATE TRIGGER\n",
    "\n",
    "- syntax:\n",
    "\n",
    "```sql\n",
    "CREATE TRIGGER [IF NOT EXISTS] trigger_name\n",
    "    {BEFORE | AFTER} {INSERT | UPDATE | DELETE} \n",
    "ON table_name\n",
    "FOR EACH ROW\n",
    "BEGIN\n",
    "    -- SQL statements to be executed\n",
    "END;\n",
    "```\n",
    "\n",
    "- `CREATE TRIGGER`: Indicates that you want to create a trigger.\n",
    "- `trigger_name`: The name you want to give to the trigger.\n",
    "- `BEFORE` or `AFTER`: Specifies whether the trigger should be fired before or after the specified event.\n",
    "- `INSERT`, `UPDATE`, or `DELETE`: The event that triggers the trigger.\n",
    "- `ON table_name`: The table on which the trigger should be applied.\n",
    "- `FOR EACH ROW`: Specifies that the trigger should be fired for each row affected by the event.\n",
    "- `BEGIN` and `END`: The block where you place the SQL statements that define the actions to be taken when the trigger is activated\n",
    "\n",
    "- e.g., let's say you have a table named `orders` and you want to automatically update an `order_date` column whenever a new order is inserted\n",
    "    - you can create a trigger like this:\n",
    "\n",
    "```sql\n",
    "CREATE TRIGGER update_order_date\n",
    "AFTER INSERT ON orders\n",
    "FOR EACH ROW\n",
    "BEGIN\n",
    "    UPDATE orders\n",
    "    SET order_date = CURRENT_TIMESTAMP\n",
    "    WHERE order_id = NEW.order_id;\n",
    "END;\n",
    "```\n",
    "\n",
    "In this example:\n",
    "- `update_order_date` is the name of the trigger.\n",
    "- `AFTER INSERT` specifies that the trigger should be activated after an INSERT operation.\n",
    "- `NEW` is a special keyword that refers to the new row being inserted.\n",
    "- The `UPDATE` statement modifies the `order_date` column for the newly inserted order using the current timestamp.\n",
    "\n",
    "- Triggers can be powerful tools for maintaining data consistency and automating tasks, but they should be used judiciously to avoid complexity and unintended consequences.\n",
    "\n",
    "- to trigger the update_order_date, insert a new order into orders tables\n",
    "- check the oder_date value by refreshing the \n",
    "\n",
    "```sql\n",
    "INSERT INTO orders (order_id, customer_id) values (100, 1);\n",
    "```\n",
    "\n",
    "\n",
    "### AFTER UPDATE TRIGGER example\n",
    "\n",
    "- email can be important and you want to keep track of old emails when customers change their emails\n",
    "- we can create a log table to keep track of every email changes using a Trigger\n",
    "- create a customer_email_changes table\n",
    "\n",
    "```sql\n",
    "CREATE TABLE customer_email_changes (\n",
    "    old_id integer,\n",
    "    new_id integer,\n",
    "\told_email text,\n",
    "\tnew_email text,\n",
    "\tuser_action text,\n",
    "\tcreated_at text\n",
    ");\n",
    "```\n",
    "\n",
    "- let's create AFTER UPDATE Trigger\n",
    "\n",
    "```sql\n",
    "CREATE TRIGGER log_customer_after_update \n",
    "   AFTER UPDATE ON customers\n",
    "   WHEN OLD.Email <> New.Email\n",
    "BEGIN\n",
    "\tINSERT INTO customer_email_changes  (\n",
    "        old_id,\n",
    "        new_id,\n",
    "\t\told_email,\n",
    "\t\tnew_email,\n",
    "\t\tuser_action,\n",
    "\t\tcreated_at\n",
    "\t)\n",
    "    VALUES\n",
    "\t(\n",
    "        OLD.CustomerID,\n",
    "        NEW.CustomerID,\n",
    "\t\tOLD.email,\n",
    "\t\tNEW.email,\n",
    "\t\t'UPDATE',\n",
    "\t\tDATETIME('NOW')\n",
    "\t) ;\n",
    "END;\n",
    "```\n",
    "\n",
    "- now update some customer's email\n",
    "\n",
    "```sql\n",
    "UPDATE customers set Email='newemail@gmail.com' where CustomerId=1;\n",
    "```\n",
    "\n",
    "- after executing the update statement check the customer_email_changes table\n"
   ]
  },
  {
   "cell_type": "markdown",
   "id": "b7b56aca",
   "metadata": {},
   "source": [
    "## DROP TRIGGER\n",
    "\n",
    "- https://sqlite.org/lang_droptrigger.html\n",
    "- e.g.,\n",
    "\n",
    "```sql\n",
    "DROP TRIGGER IF EXISTS log_customer_after_update;\n",
    "```\n",
    "\n",
    "## Check Trigger Information\n",
    "\n",
    "```sql\n",
    "SELECT * FROM sqlite_master WHERE type = 'trigger' and name='<trigger_name>';\n",
    "```"
   ]
  },
  {
   "cell_type": "code",
   "execution_count": 1,
   "id": "764c18b7",
   "metadata": {},
   "outputs": [],
   "source": [
    "from python import db"
   ]
  },
  {
   "cell_type": "code",
   "execution_count": 2,
   "id": "aabae965",
   "metadata": {},
   "outputs": [],
   "source": [
    "db_file = 'data/chinook.sqlite'"
   ]
  },
  {
   "cell_type": "code",
   "execution_count": 3,
   "id": "2f6ff16b",
   "metadata": {},
   "outputs": [],
   "source": [
    "sql_check_trigger = \"SELECT * FROM sqlite_master WHERE type = 'trigger' and name='update_order_date';\""
   ]
  },
  {
   "cell_type": "code",
   "execution_count": 5,
   "id": "47f5c84b",
   "metadata": {},
   "outputs": [],
   "source": [
    "row = db.select_one_row(db_file, sql_check_trigger, ())"
   ]
  },
  {
   "cell_type": "code",
   "execution_count": 6,
   "id": "175ead03",
   "metadata": {},
   "outputs": [
    {
     "name": "stdout",
     "output_type": "stream",
     "text": [
      "('trigger', 'update_order_date', 'orders', 0, 'CREATE TRIGGER update_order_date\\nAFTER INSERT ON orders\\nFOR EACH ROW\\nBEGIN\\n    UPDATE orders\\n    SET order_date = CURRENT_TIMESTAMP\\n    WHERE order_id = NEW.order_id;\\nEND')\n"
     ]
    }
   ],
   "source": [
    "print(row)"
   ]
  },
  {
   "cell_type": "code",
   "execution_count": null,
   "id": "9a2295d8",
   "metadata": {},
   "outputs": [],
   "source": []
  }
 ],
 "metadata": {
  "kernelspec": {
   "display_name": "Python 3 (ipykernel)",
   "language": "python",
   "name": "python3"
  },
  "language_info": {
   "codemirror_mode": {
    "name": "ipython",
    "version": 3
   },
   "file_extension": ".py",
   "mimetype": "text/x-python",
   "name": "python",
   "nbconvert_exporter": "python",
   "pygments_lexer": "ipython3",
   "version": "3.10.8"
  }
 },
 "nbformat": 4,
 "nbformat_minor": 5
}
