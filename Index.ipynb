{
 "cells": [
  {
   "cell_type": "markdown",
   "id": "108fb99a",
   "metadata": {},
   "source": [
    "# Database Index\n",
    "\n",
    "- An index in a database is a data structure that enhances the speed of data retrieval operations on a table\n",
    "- provides a way to quickly look up records based on the values in one or more columns\n",
    "- indexes are used to optimize query performance by reducing the amount of data that needs to be scanned when searching for specific information\n",
    "- instead of scanning the entire table, the database engine can use the index to locate the relevant rows efficiently\n",
    "- work similar to the way an index works in a book\n",
    "- the index in a book lists keywords along with the page numbers where those keywords can be found\n",
    "- a database index contains values from one or more columns along with pointers to the corresponding rows in the table\n",
    "\n",
    "## Key points about database indexes\n",
    "\n",
    "1. **Faster Data Retrieval**: \n",
    "- indexes allow the database to avoid full-table scans and jump directly to the relevant data\n",
    "- significantly speeds up query execution for frequently searched columns\n",
    "\n",
    "2. **B-Tree Structure**:\n",
    "- most database systems use a B-Tree (balanced tree) structure to store indexes efficiently\n",
    "- this structure ensures that index lookups have a logarithmic time complexity\n",
    "\n",
    "3. **Column Selection**:\n",
    "- you can create indexes on one or multiple columns in a table\n",
    "- the choice of which columns to index depends on the queries you frequently run\n",
    "\n",
    "4. **Trade-Offs**: \n",
    "- while indexes improve read performance, they can slow down write operations (such as inserts, updates, and deletes) because the index needs to be updated whenever the data changes\n",
    "\n",
    "5. **Maintenance**: \n",
    "- indexes need to be maintained as data changes\n",
    "- this adds overhead during data modification operations\n",
    "\n",
    "6. **Unique Index**: \n",
    "- a unique index enforces the uniqueness of values in a column\n",
    "- tt's commonly used for primary key columns\n",
    "\n",
    "7. **Composite Index**:\n",
    "- an index that spans multiple columns\n",
    "- it's useful when queries involve multiple columns together\n",
    "\n",
    "8. **Covering Index**:\n",
    "- an index that includes all the columns required to satisfy a query, allowing the query to be executed solely using the index without accessing the actual table\n",
    "\n",
    "9. **Clustered vs. Non-Clustered**:\n",
    "- some database systems differentiate between clustered and non-clustered indexes\n",
    "- A clustered index determines the physical order of data in the table, while a non-clustered index is a separate structure pointing to the data\n",
    "\n"
   ]
  },
  {
   "cell_type": "markdown",
   "id": "31573ab1",
   "metadata": {},
   "source": [
    "## CREATE INDEX\n",
    "\n",
    "- https://sqlite.org/lang_createindex.html\n",
    "\n",
    "- syntax:\n",
    "\n",
    "```sql\n",
    "CREATE INDEX index_name ON table_name(column1_name, column2_name, ...);\n",
    "```\n",
    "\n",
    "- e.g. let's create an index on employees table of chinook sqlite database\n",
    "\n",
    "```sql\n",
    "CREATE INDEX idx_last_name ON employees(LastName);\n",
    "```\n",
    "\n",
    "### CREATE UNIQUE INDEX\n",
    "- uniqe indexes are contraints that prevent duplicate values in the index column(s)\n",
    "- similar to UNIQE constraint on column\n",
    "\n",
    "- e.g.,\n",
    "\n",
    "```sql\n",
    "CREATE UNIQUE INDEX idx_email ON employees(Email);\n",
    "```\n",
    "\n",
    "### CHECK IF INDEX EXISTS\n",
    "\n",
    "```sql\n",
    "SELECT *\n",
    "FROM\n",
    "   sqlite_master\n",
    "WHERE\n",
    "   type= 'index' and tbl_name = '<your_table_name>' and name = '<your_index_name>';\n",
    "```"
   ]
  },
  {
   "cell_type": "code",
   "execution_count": 1,
   "id": "3f57a821",
   "metadata": {},
   "outputs": [],
   "source": [
    "from python import db"
   ]
  },
  {
   "cell_type": "code",
   "execution_count": 4,
   "id": "9ec7094d",
   "metadata": {},
   "outputs": [],
   "source": [
    "db_file = \"data/chinook.sqlite\""
   ]
  },
  {
   "cell_type": "code",
   "execution_count": 21,
   "id": "72ab288f",
   "metadata": {},
   "outputs": [],
   "source": [
    "sql_create_index = \"CREATE UNIQUE INDEX idx_email ON employees(Email);\""
   ]
  },
  {
   "cell_type": "code",
   "execution_count": 22,
   "id": "219179e6",
   "metadata": {},
   "outputs": [],
   "source": [
    "db.execute_non_query(db_file, sql_create_index)"
   ]
  },
  {
   "cell_type": "code",
   "execution_count": null,
   "id": "32bf5192",
   "metadata": {},
   "outputs": [],
   "source": [
    "# Manually check if the index is created\n",
    "# automatically check if index exists"
   ]
  },
  {
   "cell_type": "code",
   "execution_count": 23,
   "id": "4eb84819",
   "metadata": {},
   "outputs": [],
   "source": [
    "sql_select_index = \"SELECT * FROM sqlite_master WHERE type='index' and name='idx_email';\""
   ]
  },
  {
   "cell_type": "code",
   "execution_count": 24,
   "id": "f6f58801",
   "metadata": {},
   "outputs": [],
   "source": [
    "row = db.select_one_row(db_file, sql_select_index, ())"
   ]
  },
  {
   "cell_type": "code",
   "execution_count": 25,
   "id": "bd9fe1a1",
   "metadata": {},
   "outputs": [
    {
     "name": "stdout",
     "output_type": "stream",
     "text": [
      "('index', 'idx_email', 'employees', 874, 'CREATE UNIQUE INDEX idx_email ON employees(Email)')\n"
     ]
    }
   ],
   "source": [
    "print(row)\n",
    "# should return one row with 5 columns: type, tbl_name, rootpage, sql"
   ]
  },
  {
   "cell_type": "code",
   "execution_count": 26,
   "id": "0ccbe56f",
   "metadata": {},
   "outputs": [],
   "source": [
    "# assertion test\n",
    "assert(row[1] == 'idx_email')"
   ]
  },
  {
   "cell_type": "code",
   "execution_count": 27,
   "id": "1b34e620",
   "metadata": {},
   "outputs": [],
   "source": [
    "assert(len(row) == 5)"
   ]
  },
  {
   "cell_type": "markdown",
   "id": "dfa9a5a0",
   "metadata": {},
   "source": [
    "### DROP INDEX\n",
    "\n",
    "- e.g.,\n",
    "\n",
    "```sql\n",
    "DROP INDEX IF EXISTS idx_email;\n",
    "```"
   ]
  },
  {
   "cell_type": "code",
   "execution_count": 30,
   "id": "9178c649",
   "metadata": {},
   "outputs": [],
   "source": [
    "sql_drop_index = 'DROP INDEX IF EXISTS idx_email'"
   ]
  },
  {
   "cell_type": "code",
   "execution_count": 31,
   "id": "cb7c89f9",
   "metadata": {},
   "outputs": [],
   "source": [
    "db.execute_non_query(db_file, sql_drop_index)"
   ]
  },
  {
   "cell_type": "code",
   "execution_count": 34,
   "id": "fcc4ac1a",
   "metadata": {},
   "outputs": [],
   "source": [
    "row = db.select_one_row(db_file, sql_select_index, ())\n",
    "# should return None"
   ]
  },
  {
   "cell_type": "code",
   "execution_count": 36,
   "id": "e81e3efd",
   "metadata": {},
   "outputs": [
    {
     "name": "stdout",
     "output_type": "stream",
     "text": [
      "None\n"
     ]
    }
   ],
   "source": [
    "print(row)"
   ]
  },
  {
   "cell_type": "code",
   "execution_count": null,
   "id": "e446c28b",
   "metadata": {},
   "outputs": [],
   "source": []
  }
 ],
 "metadata": {
  "kernelspec": {
   "display_name": "Python 3 (ipykernel)",
   "language": "python",
   "name": "python3"
  },
  "language_info": {
   "codemirror_mode": {
    "name": "ipython",
    "version": 3
   },
   "file_extension": ".py",
   "mimetype": "text/x-python",
   "name": "python",
   "nbconvert_exporter": "python",
   "pygments_lexer": "ipython3",
   "version": "3.10.8"
  }
 },
 "nbformat": 4,
 "nbformat_minor": 5
}
