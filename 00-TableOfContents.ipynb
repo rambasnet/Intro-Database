{
 "cells": [
  {
   "cell_type": "markdown",
   "id": "99a5bf37",
   "metadata": {},
   "source": [
    "# Table of Contents\n",
    "\n",
    "## [1. Introduction](DB-Introduction.ipynb)\n",
    "## [2. Relational Databases](Relational-Databases.ipynb)\n",
    "## [3. SQLite Database](SQLite-Database.ipynb)\n",
    "## [4. SQLite Commands](SQLite-Commands.ipynb)\n",
    "## [5. SQL Introduction](SQL-Introduction.ipynb)\n",
    "## [6. SQLite with Python](SQLite-Python.ipynb)\n",
    "## [7. SQL CRUD Statements](CRUD.ipynb)\n",
    "## [8. INSERT Statement](INSERT.ipynb)\n",
    "## [9. SELECT Statement](SELECT.ipynb)\n",
    "## [10. UPDATE Statement](UPDATE.ipynb)\n",
    "## [11. DELETE Statement](DELETE.ipynb)\n",
    "## [12. Database Tables](Tables.ipynb)\n",
    "## [13. Index](Index.ipynb)\n",
    "## [14. Trigger](Trigger.ipynb)\n",
    "## [15. Joins](Joins.ipynb)\n",
    "## [16. Transactions](Transactions.ipynb)\n",
    "## [17. JSON](JSON.ipynb)\n",
    "## [18. MongoDB and NoSQL](MongoDB.ipynb)\n",
    "## [19. MongoDB CRUD Statements](MongoDB-CRUD.ipynb)\n",
    "## [20. MongoDB Data API](MongoDB-Data-API.ipynb)"
   ]
  },
  {
   "cell_type": "code",
   "execution_count": null,
   "id": "eb797d20",
   "metadata": {},
   "outputs": [],
   "source": []
  }
 ],
 "metadata": {
  "kernelspec": {
   "display_name": "Python 3 (ipykernel)",
   "language": "python",
   "name": "python3"
  },
  "language_info": {
   "codemirror_mode": {
    "name": "ipython",
    "version": 3
   },
   "file_extension": ".py",
   "mimetype": "text/x-python",
   "name": "python",
   "nbconvert_exporter": "python",
   "pygments_lexer": "ipython3",
   "version": "3.10.8"
  }
 },
 "nbformat": 4,
 "nbformat_minor": 5
}
