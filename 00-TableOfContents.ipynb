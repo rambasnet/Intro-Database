{
 "cells": [
  {
   "cell_type": "markdown",
   "id": "76f8dd7c",
   "metadata": {},
   "source": [
    "# Table of Contents\n",
    "\n",
    "## [1. DB Introduction](DB-Introduction.ipynb)\n",
    "## [2. Relational Databases](Relational-Databases.ipynb)\n",
    "## [3. SQLite Database](SQLite-Database.ipynb)\n",
    "## [4. SQLite Commands](SQLite-Commands.ipynb)\n",
    "## [5. SQL Introduction](SQL-Introduction.ipynb)\n",
    "## [6. CRUD Statements](CRUD.ipynb)\n",
    "## [7. INSERT Statement](CREATE.ipynb)\n",
    "## [8. SELECT Statement](SELECT.ipynb)\n",
    "## "
   ]
  },
  {
   "cell_type": "code",
   "execution_count": null,
   "id": "e265a818",
   "metadata": {},
   "outputs": [],
   "source": []
  }
 ],
 "metadata": {
  "kernelspec": {
   "display_name": "Python 3 (ipykernel)",
   "language": "python",
   "name": "python3"
  },
  "language_info": {
   "codemirror_mode": {
    "name": "ipython",
    "version": 3
   },
   "file_extension": ".py",
   "mimetype": "text/x-python",
   "name": "python",
   "nbconvert_exporter": "python",
   "pygments_lexer": "ipython3",
   "version": "3.10.8"
  }
 },
 "nbformat": 4,
 "nbformat_minor": 5
}
