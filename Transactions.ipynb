{
 "cells": [
  {
   "cell_type": "markdown",
   "id": "e640b097",
   "metadata": {},
   "source": [
    "# Transactions\n",
    "\n",
    "- Like many SQL-based DBMS, SQLite is a transactional database system\n",
    "- meaning queries can be grouped to execute as a single transaction\n",
    "- transactions have ACID properites\n",
    "\n",
    "## Atomic\n",
    "\n",
    "- means that a change cannot be broken down into smaller ones\n",
    "- when you commit a transaction, either the entire transaction is applied or nothing is applied\n",
    "\n",
    "## Consistent\n",
    "\n",
    "- a transaction must ensure to change the database from one valid state to another\n",
    "- when a transaction starts and executes a statement to modify data, the database becomes inconsistent; \n",
    "    - however, when the transaction is committed or rolled back, it is important that the transaction must keep the database consistent\n",
    "    \n",
    "## Isolation\n",
    "\n",
    "- isolation ensures that multiple transactions can be executed concurrently without interfering with each other - - each transaction is executed in isolation from other transactions, as if it were the only transaction running on the system\n",
    "- this prevents issues such as data corruption or conflicts that could arise from simultaneous access to the same data by multiple transactions\n",
    "\n",
    "## Durability\n",
    "\n",
    "- durability guarantees that once a transaction is successfully completed, its changes are permanently saved and will survive any subsequent system failures, crashes, or power outages\n",
    "- these changes are stored in a durable medium (such as disk storage) so that they can be recovered even if the system crashes right after the transaction is completed\n",
    "\n",
    "## Applications\n",
    "\n",
    "- the ACID properties collectively provide a robust framework for maintaining data integrity and reliability in database management systems, making them suitable for applications where accuracy and consistency of data are paramount, such as financial systems, e-commerce platforms, and various enterprise-level applications\n",
    "\n",
    "### Drawbacks\n",
    "\n",
    "- it's important to note that adhering strictly to the ACID properties can sometimes impact system performance, particularly in highly concurrent environments\n",
    "- some modern databases, especially those designed for specific use cases, might opt for a more relaxed consistency model to achieve better performance and scalability while still ensuring data reliability\n",
    "\n",
    "\n",
    "## SQLite Transaction\n",
    "\n",
    "- by default, SQLite operates in auto-commit mode\n",
    "- meaning that for each command, SQLite starts, processes, and commits the transaction automatically\n",
    "- syntax:\n",
    "\n",
    "```sql\n",
    "BEGIN TRANSACTION;\n",
    "\n",
    "/* SQL STATEMENTS, INSERT, UPDATE, DELETE, ETC... */\n",
    "\n",
    "[COMMIT] [ROLLBACK];\n",
    "```\n"
   ]
  },
  {
   "cell_type": "code",
   "execution_count": 23,
   "id": "c06b5314",
   "metadata": {},
   "outputs": [],
   "source": [
    "import sqlite3\n",
    "from sqlite3 import Error"
   ]
  },
  {
   "cell_type": "code",
   "execution_count": 55,
   "id": "0f99d379",
   "metadata": {},
   "outputs": [],
   "source": [
    "filename = './data/bank.db'"
   ]
  },
  {
   "cell_type": "code",
   "execution_count": 56,
   "id": "cb023eb2",
   "metadata": {},
   "outputs": [],
   "source": [
    "# if conn object is used as a cotext manager\n",
    "# all the statements is considered as a transaction\n",
    "with sqlite3.connect(filename) as conn:\n",
    "    cursor = conn.cursor()\n",
    "    sqls = [\n",
    "        'DROP TABLE IF EXISTS CHECKING;',\n",
    "        'CREATE TABLE CHECKING (balance integer);',\n",
    "        'INSERT INTO CHECKING(balance) VALUES (100);',]\n",
    "    for sql in sqls:\n",
    "        cursor.execute(sql)"
   ]
  },
  {
   "cell_type": "code",
   "execution_count": 60,
   "id": "c5937a54",
   "metadata": {},
   "outputs": [
    {
     "name": "stdout",
     "output_type": "stream",
     "text": [
      "Fail! Rolling back... no such column: saving\n"
     ]
    }
   ],
   "source": [
    "conn = sqlite3.connect(filename)\n",
    "\n",
    "c = conn.cursor()\n",
    "c.execute(\"BEGIN TRANSACTION;\")\n",
    "try:\n",
    "    c.execute(\"UPDATE CHECKING SET balance = balance - 5;\")\n",
    "    c.execute(\"UPDATE CHECKING SET saving = balance + 10;\") # <-- no column name saving\n",
    "    # comment the above statement and run it again\n",
    "    c.execute(\"UPDATE CHECKING SET balance = balance - 100;\")\n",
    "    c.execute('SELECT balance FROM CHECKING;')\n",
    "    balance = int(c.fetchone()[0])\n",
    "    if balance < 0:\n",
    "        print(f'{balance =}')\n",
    "        raise Error(f'-ve Balance: {balance}')\n",
    "    c.execute(\"COMMIT;\")\n",
    "    print('All success...')\n",
    "except Error as ex:\n",
    "    c.execute(\"ROLLBACK;\")\n",
    "    print(\"Fail! Rolling back...\", ex)\n",
    "finally:\n",
    "    conn.close()"
   ]
  },
  {
   "cell_type": "code",
   "execution_count": 61,
   "id": "bfe509c8",
   "metadata": {},
   "outputs": [
    {
     "name": "stdout",
     "output_type": "stream",
     "text": [
      "[(100,)]\n"
     ]
    }
   ],
   "source": [
    "from python import db\n",
    "sql = 'SELECT BALANCE FROM CHECKING;'\n",
    "rows = db.select_all_rows(filename, sql, ())\n",
    "print(rows)"
   ]
  },
  {
   "cell_type": "code",
   "execution_count": null,
   "id": "b8cf29ef",
   "metadata": {},
   "outputs": [],
   "source": []
  }
 ],
 "metadata": {
  "kernelspec": {
   "display_name": "Python 3 (ipykernel)",
   "language": "python",
   "name": "python3"
  },
  "language_info": {
   "codemirror_mode": {
    "name": "ipython",
    "version": 3
   },
   "file_extension": ".py",
   "mimetype": "text/x-python",
   "name": "python",
   "nbconvert_exporter": "python",
   "pygments_lexer": "ipython3",
   "version": "3.9.13"
  }
 },
 "nbformat": 4,
 "nbformat_minor": 5
}
