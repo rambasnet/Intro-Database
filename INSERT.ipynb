{
 "cells": [
  {
   "cell_type": "markdown",
   "id": "a99f30c0",
   "metadata": {},
   "source": [
    "# CREATE\n",
    "\n",
    "- Create in CRUD is synonums to SQL INSERT statement\n",
    "- SQL INSERT statement is used to add new records or rows of data into a database table\n",
    "- allows you to specify the values to be inserted into each column of the table for the new record\n",
    "- INSERT statement is a key component of the \"Create\" (C) operation in the CRUD (Create, Read, Update, Delete) paradigm\n",
    "- https://sqlite.org/lang_insert.html\n",
    "- basic syntax of the SQL INSERT statement is as follows:\n",
    "\n",
    "```sql\n",
    "INSERT INTO table_name (column1, column2, column3, ...)\n",
    "VALUES (value1, value2, value3, ...);\n",
    "```\n",
    "\n",
    "- Example:\n",
    "\n",
    "```sql\n",
    "INSERT INTO Employees (EmployeeID, FirstName, LastName, Department)\n",
    "VALUES (101, 'John', 'Doe', 'Marketing');\n",
    "```\n",
    "\n",
    "- this SQL statement would insert a new record into the \"Employees\" table with the specified values for each column\n",
    "- if the table has columns with default values, you might not need to provide a value for those columns in the INSERT statement\n",
    "- if the table has an auto-incrementing primary key, you generally don't need to provide a value for that column, as the database system will automatically generate it\n",
    "\n",
    "## Use DBeaver GUI to run insert statements\n",
    "\n",
    "- connect chinook.db and run the collowing sql statement\n",
    "\n",
    "```db\n",
    "INSERT INTO artists (name)\n",
    "VALUES('Bud Powell');\n",
    "```\n",
    "- because the ArtistId column is an auto-increment column, you can ignore it in the statement.\n",
    "\n",
    "\n",
    "### Insert multiple rows into a table\n",
    "\n",
    "```sql\n",
    "INSERT INTO table_name (column1, column2 ,..)\n",
    "VALUES \n",
    "   (value1,value2 ,...),\n",
    "   (value1,value2 ,...),\n",
    "    ...\n",
    "   (value1,value2 ,...);\n",
    "```\n",
    "- each row of values represent one record or entity\n",
    "\n",
    "```sql\n",
    "INSERT INTO artists (name)\n",
    "VALUES\n",
    "\t(\"Buddy Rich\"),\n",
    "\t(\"Candido\"),\n",
    "\t(\"Charlie Byrd\");\n",
    "```\n",
    "\n",
    "### Insert default values\n",
    "\n",
    "```sql\n",
    "INSERT INTO artists DEFAULT VALUES;\n",
    "```\n"
   ]
  },
  {
   "cell_type": "markdown",
   "id": "004475e8",
   "metadata": {},
   "source": [
    "## Use Python to insert records\n",
    "- use parameterized query replacing value with ?\n",
    "- provide data as a tuple\n",
    "- Tuple represents one row"
   ]
  },
  {
   "cell_type": "code",
   "execution_count": 1,
   "id": "e826a5eb",
   "metadata": {},
   "outputs": [],
   "source": [
    "from python import db"
   ]
  },
  {
   "cell_type": "code",
   "execution_count": 2,
   "id": "176fcbab",
   "metadata": {},
   "outputs": [
    {
     "name": "stdout",
     "output_type": "stream",
     "text": [
      "Help on module python.db in python:\n",
      "\n",
      "NAME\n",
      "    python.db\n",
      "\n",
      "FUNCTIONS\n",
      "    close_connection(conn: sqlite3.Connection)\n",
      "        Close a database connection to a SQLite database.\n",
      "        Args:\n",
      "          conn (Connection): Connection object\n",
      "    \n",
      "    create_connection(db_file: str)\n",
      "        Create a database connection to a SQLite database.\n",
      "        Args:\n",
      "          db_file (str): database file\n",
      "        Return:\n",
      "          Connection object or None\n",
      "    \n",
      "    create_table(db_file: str, create_table_sql: str)\n",
      "        Create a table from the create_table_sql statement\n",
      "        Args:\n",
      "          db_file (str): database file path\n",
      "          create_table_sql (str): a CREATE TABLE statement\n",
      "    \n",
      "    insert_many_rows(db_file: str, insert_rows_sql: str, rows: list[tuple])\n",
      "        Insert data into a table from the insert_data_sql statement\n",
      "        Args:\n",
      "          db_file (str): database file path\n",
      "          insert_data_sql (str): an INSERT INTO statement\n",
      "          rows (list[tuple]): list of tuples as rows to be inserted for parameterized query\n",
      "    \n",
      "    insert_one_row(db_file: str, insert_row_sql: str, row: tuple)\n",
      "        Insert data into a table from the insert_data_sql statement\n",
      "        Args:\n",
      "          db_file (str): database file path\n",
      "          insert_data_sql (str): an INSERT INTO statement\n",
      "          row (tuple): row as tuple to be inserted\n",
      "    \n",
      "    select_all_rows(db_file: str, select_rows_sql: str, where: tuple)\n",
      "        Select all rows from a table from the select_data_sql statement\n",
      "        Args:\n",
      "          db_file (str): database file path\n",
      "          select_data_sql (str): an SELECT statement\n",
      "          where (tuple): where clause as tuple for ? placeholder\n",
      "        Return:\n",
      "          rows (list[tuple]) | None: list of tuples as rows or None\n",
      "    \n",
      "    select_one_row(db_file: str, select_row_sql: str, where: tuple)\n",
      "        Select one row from a table from the select_data_sql statement\n",
      "        Args:\n",
      "          db_file (str): database file path\n",
      "          select_data_sql (str): an SELECT statement\n",
      "          where (tuple): where clause as tuple for ? placeholder\n",
      "        Return:\n",
      "          row (tuple) | None : row as tuple or None\n",
      "    \n",
      "    update(db_file: str, update_sql: str, where: tuple)\n",
      "        Update a table from the update_sql statement\n",
      "        Args:\n",
      "          db_file (str): database file path\n",
      "          update_sql (str): an UPDATE statement\n",
      "          where (tuple): where clause as tuple for ? placeholder\n",
      "        Return:\n",
      "          rows_affected (int): number of rows affected\n",
      "\n",
      "FILE\n",
      "    /Users/rbasnet/projects/Intro-Database/python/db.py\n",
      "\n",
      "\n"
     ]
    }
   ],
   "source": [
    "help(db)"
   ]
  },
  {
   "cell_type": "code",
   "execution_count": 3,
   "id": "8e7a114e",
   "metadata": {},
   "outputs": [],
   "source": [
    "db_file = 'data/chinook.sqlite'"
   ]
  },
  {
   "cell_type": "code",
   "execution_count": 4,
   "id": "9d77fcdd",
   "metadata": {},
   "outputs": [],
   "source": [
    "sql = \"INSERT INTO artists (name) VALUES (?);\"\n",
    "# must provide data as a Python tuple and there must be an extra comma if there's only one value\n",
    "row = ('Jake Powell',)"
   ]
  },
  {
   "cell_type": "code",
   "execution_count": 5,
   "id": "29fa445f",
   "metadata": {},
   "outputs": [
    {
     "data": {
      "text/plain": [
       "1"
      ]
     },
     "execution_count": 5,
     "metadata": {},
     "output_type": "execute_result"
    }
   ],
   "source": [
    "len(row)"
   ]
  },
  {
   "cell_type": "code",
   "execution_count": 6,
   "id": "1342f041",
   "metadata": {},
   "outputs": [],
   "source": [
    "db.insert_one_row(db_file, sql, row)"
   ]
  },
  {
   "cell_type": "code",
   "execution_count": 7,
   "id": "e27e0234",
   "metadata": {},
   "outputs": [],
   "source": [
    "sql = 'INSERT INTO artists DEFAULT VALUES;'\n",
    "db.insert_one_row(db_file, sql, ())"
   ]
  },
  {
   "cell_type": "code",
   "execution_count": 8,
   "id": "580378bc",
   "metadata": {},
   "outputs": [],
   "source": [
    "sql = \"\"\"INSERT INTO artists (name)\n",
    "        VALUES\n",
    "        (\"Buddy Rich\"),\n",
    "        (\"Candido\"),\n",
    "        (\"Charlie Byrd\");\n",
    "    \"\"\""
   ]
  },
  {
   "cell_type": "code",
   "execution_count": 9,
   "id": "3a6e1e40",
   "metadata": {},
   "outputs": [
    {
     "data": {
      "text/plain": [
       "'INSERT INTO artists (name)\\n        VALUES\\n        (\"Buddy Rich\"),\\n        (\"Candido\"),\\n        (\"Charlie Byrd\");\\n    '"
      ]
     },
     "execution_count": 9,
     "metadata": {},
     "output_type": "execute_result"
    }
   ],
   "source": [
    "sql"
   ]
  },
  {
   "cell_type": "code",
   "execution_count": 10,
   "id": "41465136",
   "metadata": {},
   "outputs": [],
   "source": [
    "# SQL will remove extra white spaces\n",
    "# we need to call insert_one_row in this case because it's a single SQL statement\n",
    "db.insert_one_row(db_file, sql, ())"
   ]
  },
  {
   "cell_type": "code",
   "execution_count": 11,
   "id": "1ceeb23e",
   "metadata": {},
   "outputs": [],
   "source": [
    "# if we use parameterized query, we need to use insert_many_rows\n",
    "sql = \"\"\"INSERT INTO artists (name) VALUES (?)\"\"\"\n",
    "data = [('Night Byrd',), ('Shin Lim',), ('Maya',)]"
   ]
  },
  {
   "cell_type": "code",
   "execution_count": 12,
   "id": "2944eba1",
   "metadata": {},
   "outputs": [],
   "source": [
    "db.insert_many_rows(db_file, sql, data)\n",
    "# check the artists table's data contents"
   ]
  },
  {
   "cell_type": "markdown",
   "id": "317dbeea",
   "metadata": {},
   "source": [
    "## INSERT datetime\n",
    "\n",
    "- employees table stores BirthDate and HireDate\n",
    "- let's insert an new employee in the table"
   ]
  },
  {
   "cell_type": "code",
   "execution_count": 14,
   "id": "26219212",
   "metadata": {},
   "outputs": [],
   "source": [
    "from datetime import datetime"
   ]
  },
  {
   "cell_type": "code",
   "execution_count": 22,
   "id": "bb29c3aa",
   "metadata": {},
   "outputs": [],
   "source": [
    "sql = \"\"\"\n",
    "INSERT INTO Employees \n",
    "    (LastName, FirstName, Title, ReportsTo, BirthDate, HireDate, Address, City, State, Country, \n",
    "    PostalCode, Phone, Fax, Email)\n",
    "VALUES (?, ?, ?, ?, ?, ?, ?,?,?,?,?,?,?,?)\n",
    "\"\"\""
   ]
  },
  {
   "cell_type": "code",
   "execution_count": 15,
   "id": "009f80c8",
   "metadata": {},
   "outputs": [
    {
     "data": {
      "text/plain": [
       "datetime.datetime(2023, 8, 18, 13, 55, 39, 61497)"
      ]
     },
     "execution_count": 15,
     "metadata": {},
     "output_type": "execute_result"
    }
   ],
   "source": [
    "datetime.now()"
   ]
  },
  {
   "cell_type": "code",
   "execution_count": 21,
   "id": "eb6dd574",
   "metadata": {},
   "outputs": [],
   "source": [
    "hire_date = datetime.now()"
   ]
  },
  {
   "cell_type": "code",
   "execution_count": 19,
   "id": "32698d44",
   "metadata": {},
   "outputs": [],
   "source": [
    "dob =  datetime.strptime('1/1/1990', '%m/%d/%Y')"
   ]
  },
  {
   "cell_type": "code",
   "execution_count": 20,
   "id": "f1ddac00",
   "metadata": {},
   "outputs": [
    {
     "data": {
      "text/plain": [
       "datetime.datetime(1990, 1, 1, 0, 0)"
      ]
     },
     "execution_count": 20,
     "metadata": {},
     "output_type": "execute_result"
    }
   ],
   "source": [
    "dob"
   ]
  },
  {
   "cell_type": "code",
   "execution_count": 23,
   "id": "f1c60998",
   "metadata": {},
   "outputs": [],
   "source": [
    "emp = ('John', 'Doe', 'CFO', 1, dob, hire_date, '123 street', 'GJ', 'CO', 'USA', \\\n",
    "       '12344-234', '970-111-1111', '970-222-2222', 'john@doe.com')"
   ]
  },
  {
   "cell_type": "code",
   "execution_count": 24,
   "id": "09608950",
   "metadata": {},
   "outputs": [],
   "source": [
    "db.insert_one_row(db_file, sql, emp)\n",
    "# let's check the chinook.sqlite database"
   ]
  },
  {
   "cell_type": "markdown",
   "id": "b92115cf",
   "metadata": {},
   "source": [
    "## Exercise\n",
    "\n",
    "1. Add several playlists records to chinook db's playlists table\n",
    "    - Add one playlist at a time\n",
    "    - Add mulitple playlists at once\n",
    "    \n",
    "    \n",
    "2. Add several album records to chinook db's albums table\n",
    "    - Add one album at at a time\n",
    "    - Add multiple albums at once"
   ]
  },
  {
   "cell_type": "code",
   "execution_count": null,
   "id": "ba348081",
   "metadata": {},
   "outputs": [],
   "source": []
  }
 ],
 "metadata": {
  "kernelspec": {
   "display_name": "Python 3 (ipykernel)",
   "language": "python",
   "name": "python3"
  },
  "language_info": {
   "codemirror_mode": {
    "name": "ipython",
    "version": 3
   },
   "file_extension": ".py",
   "mimetype": "text/x-python",
   "name": "python",
   "nbconvert_exporter": "python",
   "pygments_lexer": "ipython3",
   "version": "3.9.13"
  }
 },
 "nbformat": 4,
 "nbformat_minor": 5
}
