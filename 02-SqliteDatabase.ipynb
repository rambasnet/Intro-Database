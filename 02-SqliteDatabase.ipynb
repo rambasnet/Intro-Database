{
 "cells": [
  {
   "cell_type": "markdown",
   "id": "9685dde0",
   "metadata": {},
   "source": [
    "# Sqlite Database\n",
    "\n",
    "## Topics\n",
    "- What is Sqlite DB?\n",
    "- Key Features of Sqlite DB"
   ]
  },
  {
   "cell_type": "markdown",
   "id": "08e6a028",
   "metadata": {},
   "source": [
    "## What is SQLite DB?\n",
    "\n",
    "- https://sqlite.org/index.html\n",
    "- SQLite is a software library that provides a self-contained, serverless, zero-configuration, and transactional SQL database engine\n",
    "- simpler terms: it's a lightweight, file-based relational database management system that allows you to create, manage, and interact with databases using the SQL language\n",
    "- commonly used in scenarios where a full-fledged database server might be overkill or unnecessary, such as small to medium-sized applications, mobile apps, embedded systems, and prototyping\n",
    "- particularly well-suited for projects that need a simple and self-contained database solution without the need for a dedicated database server"
   ]
  },
  {
   "cell_type": "markdown",
   "id": "47df0691",
   "metadata": {},
   "source": [
    "## Key Features of Sqlite DB\n",
    "\n",
    "### Self-Contained\n",
    "\n",
    "- SQLite operates as a library linked directly into the application\n",
    "- database engine and the application using it are tightly integrated into a single program\n",
    "\n",
    "### Serverless\n",
    "\n",
    "- no separate server process, no need to set up and maintain a database server\n",
    "- suitable for embedded systems, mobile applications, and desktop applications\n",
    "\n",
    "### Zero-Configuration\n",
    "- doesn't require complex configuration or administration\n",
    "- simply include the SQLite library in your application and start using it\n",
    "\n",
    "### Transactional\n",
    "- supports ACID (Atomicity, Consistency, Isolation, Durability) properties, which ensure data integrity and reliability even in the face of system failures or crashes.\n",
    "\n",
    "### File-Based\n",
    "- database is stored in a single file on the disk\n",
    "- makes it easy to manage, backup, and transfer databases\n",
    "\n",
    "### Cross-Platform\n",
    "- SQLite is designed to work on various operating systems, including Windows, macOS, Linux, iOS, and Android.\n",
    "\n",
    "### Supports Standard SQL\n",
    "- SQLite uses SQL (Structured Query Language) for querying and managing data, making it familiar to those who are already accustomed to relational databases\n",
    "\n",
    "### Limited Concurrent Access\n",
    "- supports concurrent read access by multiple processes or threads\n",
    "- doesn't support concurrent write \n",
    "- not recommended for situations with heavy write loads and high-concurrency requirements\n",
    "\n",
    "\n",
    "\n",
    "\n",
    "## References\n",
    "\n",
    "- https://www.sqlite.org – SQLite homepage\n",
    "- https://www.sqlite.org/features.html – SQLite features\n",
    "- https://www.sqlite.org/copyright.html – SQLite license\n",
    "- https://www.sqlite.org/docs.html – SQLite documentation"
   ]
  },
  {
   "cell_type": "code",
   "execution_count": null,
   "id": "654c55d7",
   "metadata": {},
   "outputs": [],
   "source": []
  }
 ],
 "metadata": {
  "kernelspec": {
   "display_name": "Python 3 (ipykernel)",
   "language": "python",
   "name": "python3"
  },
  "language_info": {
   "codemirror_mode": {
    "name": "ipython",
    "version": 3
   },
   "file_extension": ".py",
   "mimetype": "text/x-python",
   "name": "python",
   "nbconvert_exporter": "python",
   "pygments_lexer": "ipython3",
   "version": "3.10.8"
  }
 },
 "nbformat": 4,
 "nbformat_minor": 5
}
