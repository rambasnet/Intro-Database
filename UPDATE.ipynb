{
 "cells": [
  {
   "cell_type": "markdown",
   "id": "dd57dea5",
   "metadata": {},
   "source": [
    "# UPDATE\n",
    "\n",
    "- the \"U\" in \"CRUD\" operations refers to the action of updating/modifying existing data in a DBMS\n",
    "- allows you to change the values of one or more columns in one or more rows based on specified conditions\n",
    "- helps you keep your database up to date by allowing you to make changes to existing data\n",
    "- https://sqlite.org/lang_update.html\n",
    "- syntax:\n",
    "\n",
    "```\n",
    "UPDATE table_name\n",
    "SET column1 = value1, column2 = value2, ...\n",
    "WHERE condition;\n",
    "```\n",
    "- optional OREDER BY and LIMI clause can be used but rare\n",
    "- e.g. query:\n",
    "\n",
    "```sql\n",
    "UPDATE employees\n",
    "SET salary = 55000;\n",
    "```\n",
    "- what do you think will be the result of above query?\n",
    "- NOTE: update statement is powerful tool for modifying data in a table, so be cautious when using it, especially with the WHERE clause, to ensure that you update the correct records and values\n",
    "- once UPDATE is executed, you can't undo the operation\n",
    "\n",
    "## WHERE\n",
    "\n",
    "- optional clause but used almost all the time\n",
    "- used to provide filter/search condition for rows to be updated by the query\n",
    "    - WHERE clause should uniquely identify the records to be deleted \n",
    "    - Primary Key is primariy used in WHERE clause\n",
    "- e.g.:\n",
    "\n",
    "```sql\n",
    "UPDATE employees\n",
    "SET salary = 55000\n",
    "WHERE employee_id = 123;\n",
    "```\n",
    "\n",
    "- run the following query on chinook sqlite db with DBeaver\n",
    "\n",
    "```\n",
    "UPDATE employees\n",
    "SET Title = 'IT Manager'\n",
    "WHERE EmployeeId = 8;\n",
    "```\n"
   ]
  },
  {
   "cell_type": "markdown",
   "id": "b99318f9",
   "metadata": {},
   "source": [
    "## UPDATE with Python\n",
    "\n",
    "- UPDATE doesn't return records but updates values in place in the table columns\n",
    "- use cursor's execute() method to update one or many records based on the WHERE clause\n",
    "- use parameterized query using ? placeholder to use untrusted data as part of the query\n"
   ]
  },
  {
   "cell_type": "code",
   "execution_count": 1,
   "id": "443f3508",
   "metadata": {},
   "outputs": [],
   "source": [
    "from python import db"
   ]
  },
  {
   "cell_type": "code",
   "execution_count": 2,
   "id": "601414cf",
   "metadata": {},
   "outputs": [],
   "source": [
    "db_file = 'data/chinook.sqlite'"
   ]
  },
  {
   "cell_type": "code",
   "execution_count": 3,
   "id": "3bdf0b41",
   "metadata": {},
   "outputs": [
    {
     "name": "stdout",
     "output_type": "stream",
     "text": [
      "Enter employee id: 1\n"
     ]
    }
   ],
   "source": [
    "emp_id = int(input('Enter employee id: '))"
   ]
  },
  {
   "cell_type": "code",
   "execution_count": 4,
   "id": "404b6eb9",
   "metadata": {},
   "outputs": [],
   "source": [
    "query = \"\"\"\n",
    "        UPDATE employees\n",
    "        SET Title = 'IT Specialist'\n",
    "        WHERE EmployeeId = ?;\n",
    "    \"\"\""
   ]
  },
  {
   "cell_type": "code",
   "execution_count": 5,
   "id": "1b2d24fe",
   "metadata": {},
   "outputs": [],
   "source": [
    "row_count = db.update(db_file, query, (emp_id,))"
   ]
  },
  {
   "cell_type": "code",
   "execution_count": 6,
   "id": "d44b75f0",
   "metadata": {},
   "outputs": [
    {
     "name": "stdout",
     "output_type": "stream",
     "text": [
      "1\n"
     ]
    }
   ],
   "source": [
    "print(row_count)"
   ]
  },
  {
   "cell_type": "markdown",
   "id": "de23719b",
   "metadata": {},
   "source": []
  }
 ],
 "metadata": {
  "kernelspec": {
   "display_name": "Python 3 (ipykernel)",
   "language": "python",
   "name": "python3"
  },
  "language_info": {
   "codemirror_mode": {
    "name": "ipython",
    "version": 3
   },
   "file_extension": ".py",
   "mimetype": "text/x-python",
   "name": "python",
   "nbconvert_exporter": "python",
   "pygments_lexer": "ipython3",
   "version": "3.10.8"
  }
 },
 "nbformat": 4,
 "nbformat_minor": 5
}
