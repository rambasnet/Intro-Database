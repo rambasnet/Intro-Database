{
 "cells": [
  {
   "cell_type": "markdown",
   "id": "b9153baa-5f12-497a-a202-a6c993a28be7",
   "metadata": {},
   "source": [
    "# MongoDB Data API\n",
    "\n",
    "- the modern way to access data is via API endpoints\n",
    "- can develop UI using any platform or language and access data API to access, update, delete data\n",
    "- enable Data API on [https://cloud.mongodb.com](https://cloud.mongodb.com)\n",
    "- create a user and API key to access the database\n",
    "- set appropriate permission settings (read/write, e.g.)\n",
    "- test API using the \"Test Your API\" button which directs you to the web-based Postman app\n",
    "    - Postman is a popular application to test APIs\n",
    "\n",
    "## REST API\n",
    "- Representational State Transfer Application Programming Interface\n",
    "- a set of architectural principles and constraints for designing and interacting with web services\n",
    "- it is not a specific technology or protocol but rather a style of building and consuming web services.\n",
    "- RESTful APIs are commonly used in web development for creating communication interfaces between different software systems over the internet\n",
    "\n",
    "The key principles and characteristics of RESTful APIs include:\n",
    "\n",
    "1. **Stateless:** Each request from a client to a server must contain all the information needed to understand and process the request. The server should not rely on any previous requests or store any client-specific state between requests.\n",
    "\n",
    "2. **Client-Server Architecture:** REST separates the concerns of the client (the user interface and user experience) from the server (the data storage and processing). This separation allows both the client and server to evolve independently.\n",
    "\n",
    "3. **Uniform Interface:** REST APIs have a consistent and uniform interface, which typically includes a set of standard HTTP methods (GET, POST, PUT, DELETE) for performing operations on resources. Each resource is identified by a unique URI (Uniform Resource Identifier).\n",
    "\n",
    "4. **Resource-Based:** In REST, everything is considered a resource, and each resource is identified by a URL. Resources can represent entities such as users, products, or any other data object.\n",
    "\n",
    "5. **Representation:** Resources can have multiple representations, such as JSON, XML, HTML, or others. Clients can request the representation they prefer or understand.\n",
    "\n",
    "6. **Stateless Communication:** Each request from a client to a server must be self-contained and include all necessary information. Servers do not need to maintain any information about the client's state between requests.\n",
    "\n",
    "7. **Layered System:** REST allows for the use of a layered architecture, where different components (e.g., load balancers, caches, security layers) can be added or removed without affecting the core functionality.\n",
    "\n",
    "8. **Cacheability:** Responses from a REST API can be explicitly marked as cacheable or non-cacheable, allowing for efficient use of caching mechanisms to improve performance.\n",
    "\n",
    "9. **Statelessness:** RESTful interactions should be stateless, meaning that each request from a client to a server must contain all the information needed to understand and process the request. Servers should not rely on any previous requests or store any client-specific state between requests.\n",
    "\n",
    "10. **Idempotent:** Certain HTTP methods, like GET, HEAD, and PUT, should be idempotent. This means that making the same request multiple times should have the same effect as making it once. It ensures that repeated requests do not have unintended side effects.\n",
    "\n",
    "RESTful APIs are widely used in web and mobile application development because they are simple, scalable, and easy to understand. They leverage the existing HTTP protocol, making them accessible to a wide range of clients and platforms. Developers use HTTP methods to perform CRUD (Create, Read, Update, Delete) operations on resources, making it a popular choice for building web services.\n",
    "\n",
    "- E.g.:\n",
    "- pick POST\n",
    "- set URL end point: https://us-west-2.aws.data.mongodb-api.com/app/data-ezpqr/endpoint/data/v1/action/insertOne\n",
    "- set Headers key:value pairs:\n",
    "    - Content-Type: application/json\n",
    "    - Access-Control-Request-Headers: *\n",
    "    - api-key: `<your API key generated for a user>`\n",
    "- Body:\n",
    "```json\n",
    "{\n",
    "    \"collection\": \"recipes\",\n",
    "    \"database\": \"myDatabase\",\n",
    "    \"dataSource\": \"Cluster0\",\n",
    "    \"document\": {\n",
    "        \"name\": \"Fajita\",\n",
    "        \"ingredients\": [\n",
    "            \"potato\",\n",
    "            \"onion\",\n",
    "            \"ground beef\",\n",
    "            \"oil\"\n",
    "        ],\n",
    "        \"prep_time\": 55\n",
    "    }\n",
    "}\n",
    "```\n",
    "- if successfully, submitted, you'll see a JSON result body with a unique object id:\n",
    "\n",
    "```json\n",
    "{\n",
    "    \"insertedId\": \"<object id>\"\n",
    "}\n",
    "```\n",
    "\n",
    "\n",
    "## API Access using requests library\n",
    "\n",
    "- install `requests` library as it's not a standard library\n",
    "- \n",
    "```bash\n",
    "$ pip install requests\n",
    "```\n",
    "- Python provides a powerful `requests` library to work with Web API\n",
    "- detail guide on requests library - [https://realpython.com/python-requests/#request-headers](https://realpython.com/python-requests/#request-headers)"
   ]
  },
  {
   "cell_type": "code",
   "execution_count": 2,
   "id": "c7d68a37-3f19-4ee6-b0a5-7c069e3ac478",
   "metadata": {},
   "outputs": [],
   "source": [
    "import requests"
   ]
  },
  {
   "cell_type": "code",
   "execution_count": 37,
   "id": "263050e2-6a99-49fe-bd3a-23723ebd9969",
   "metadata": {},
   "outputs": [
    {
     "name": "stdout",
     "output_type": "stream",
     "text": [
      "Help on package requests:\n",
      "\n",
      "NAME\n",
      "    requests\n",
      "\n",
      "DESCRIPTION\n",
      "    Requests HTTP Library\n",
      "    ~~~~~~~~~~~~~~~~~~~~~\n",
      "\n",
      "    Requests is an HTTP library, written in Python, for human beings.\n",
      "    Basic GET usage:\n",
      "\n",
      "       >>> import requests\n",
      "       >>> r = requests.get('https://www.python.org')\n",
      "       >>> r.status_code\n",
      "       200\n",
      "       >>> b'Python is a programming language' in r.content\n",
      "       True\n",
      "\n",
      "    ... or POST:\n",
      "\n",
      "       >>> payload = dict(key1='value1', key2='value2')\n",
      "       >>> r = requests.post('https://httpbin.org/post', data=payload)\n",
      "       >>> print(r.text)\n",
      "       {\n",
      "         ...\n",
      "         \"form\": {\n",
      "           \"key1\": \"value1\",\n",
      "           \"key2\": \"value2\"\n",
      "         },\n",
      "         ...\n",
      "       }\n",
      "\n",
      "    The other HTTP methods are supported - see `requests.api`. Full documentation\n",
      "    is at <https://requests.readthedocs.io>.\n",
      "\n",
      "    :copyright: (c) 2017 by Kenneth Reitz.\n",
      "    :license: Apache 2.0, see LICENSE for more details.\n",
      "\n",
      "PACKAGE CONTENTS\n",
      "    __version__\n",
      "    _internal_utils\n",
      "    adapters\n",
      "    api\n",
      "    auth\n",
      "    certs\n",
      "    compat\n",
      "    cookies\n",
      "    exceptions\n",
      "    help\n",
      "    hooks\n",
      "    models\n",
      "    packages\n",
      "    sessions\n",
      "    status_codes\n",
      "    structures\n",
      "    utils\n",
      "\n",
      "FUNCTIONS\n",
      "    check_compatibility(urllib3_version, chardet_version, charset_normalizer_version)\n",
      "\n",
      "DATA\n",
      "    __author_email__ = 'me@kennethreitz.org'\n",
      "    __build__ = 143616\n",
      "    __cake__ = '✨ 🍰 ✨'\n",
      "    __copyright__ = 'Copyright Kenneth Reitz'\n",
      "    __description__ = 'Python HTTP for Humans.'\n",
      "    __license__ = 'Apache 2.0'\n",
      "    __title__ = 'requests'\n",
      "    __url__ = 'https://requests.readthedocs.io'\n",
      "    chardet_version = None\n",
      "    charset_normalizer_version = '3.3.0'\n",
      "    codes = <lookup 'status_codes'>\n",
      "\n",
      "VERSION\n",
      "    2.31.0\n",
      "\n",
      "AUTHOR\n",
      "    Kenneth Reitz\n",
      "\n",
      "FILE\n",
      "    /usr/local/lib/python3.12/site-packages/requests/__init__.py\n",
      "\n",
      "\n"
     ]
    }
   ],
   "source": [
    "help(requests)"
   ]
  },
  {
   "cell_type": "code",
   "execution_count": 5,
   "id": "b24152a0-e955-4509-a756-1449479acf62",
   "metadata": {},
   "outputs": [
    {
     "name": "stdout",
     "output_type": "stream",
     "text": [
      "{'iss_position': {'latitude': '41.3050', 'longitude': '86.9968'}, 'timestamp': 1696909836, 'message': 'success'}\n"
     ]
    }
   ],
   "source": [
    "# let's use API provided by Internation Space Station\n",
    "# http://api.open-notify.org/iss-now.json\n",
    "response = requests.get('http://api.open-notify.org/iss-now.json')\n",
    "print(response.json())"
   ]
  },
  {
   "cell_type": "code",
   "execution_count": 27,
   "id": "cec6fc7d-0bcf-4334-8ce5-1dee23a9b213",
   "metadata": {},
   "outputs": [],
   "source": [
    "end_point = 'https://us-west-2.aws.data.mongodb-api.com/app/data-ezpqr/endpoint/data/v1/action'"
   ]
  },
  {
   "cell_type": "code",
   "execution_count": 7,
   "id": "585fdff5-f1ad-47a5-8c23-c5e7b8095fb6",
   "metadata": {},
   "outputs": [],
   "source": [
    "funct = 'find'"
   ]
  },
  {
   "cell_type": "code",
   "execution_count": 9,
   "id": "7e855705-b904-44d9-9303-c7618b235e5b",
   "metadata": {},
   "outputs": [],
   "source": [
    "api_key = '<paste your key here>'"
   ]
  },
  {
   "cell_type": "code",
   "execution_count": 20,
   "id": "9a705e17-e9bd-463f-b28d-1d8f24a5f1d4",
   "metadata": {},
   "outputs": [],
   "source": [
    "headers = {'Content-Type': 'application/json', \n",
    "        'Access-Control-Request-Headers': '*',\n",
    "        'api-key': f'{api_key}'}"
   ]
  },
  {
   "cell_type": "code",
   "execution_count": 38,
   "id": "8099cb56-2f3c-4f7b-af62-1f14498d8162",
   "metadata": {},
   "outputs": [],
   "source": [
    "payload = {\n",
    "    \"collection\": \"recipes\",\n",
    "    \"database\": \"myDatabase\",\n",
    "    \"dataSource\": \"Cluster0\",\n",
    "    \"filter\": {\n",
    "        \"ingredients\": \"potato\"\n",
    "    }\n",
    "}"
   ]
  },
  {
   "cell_type": "code",
   "execution_count": 53,
   "id": "8360387d-ef29-4d86-be90-6617a6bcc9fb",
   "metadata": {},
   "outputs": [],
   "source": [
    "# use session to store and cache headers info\n",
    "session = requests.Session()"
   ]
  },
  {
   "cell_type": "code",
   "execution_count": 54,
   "id": "e420b9be-6047-45af-8139-e7006ceed7ff",
   "metadata": {},
   "outputs": [],
   "source": [
    "session.headers.update(headers)"
   ]
  },
  {
   "cell_type": "code",
   "execution_count": 55,
   "id": "aa71d202-0fc0-40c7-ba40-895fbe8aabb7",
   "metadata": {},
   "outputs": [],
   "source": [
    "# send payload/body as json parameter and NOT data\n",
    "response = session.post(f'{end_point}/{funct}', json=payload)"
   ]
  },
  {
   "cell_type": "code",
   "execution_count": 56,
   "id": "4b8f40d3-d242-4f7b-afaf-9ff2472c78f3",
   "metadata": {},
   "outputs": [
    {
     "name": "stdout",
     "output_type": "stream",
     "text": [
      "Help on Response in module requests.models object:\n",
      "\n",
      "class Response(builtins.object)\n",
      " |  The :class:`Response <Response>` object, which contains a\n",
      " |  server's response to an HTTP request.\n",
      " |\n",
      " |  Methods defined here:\n",
      " |\n",
      " |  __bool__(self)\n",
      " |      Returns True if :attr:`status_code` is less than 400.\n",
      " |\n",
      " |      This attribute checks if the status code of the response is between\n",
      " |      400 and 600 to see if there was a client error or a server error. If\n",
      " |      the status code, is between 200 and 400, this will return True. This\n",
      " |      is **not** a check to see if the response code is ``200 OK``.\n",
      " |\n",
      " |  __enter__(self)\n",
      " |\n",
      " |  __exit__(self, *args)\n",
      " |\n",
      " |  __getstate__(self)\n",
      " |      Helper for pickle.\n",
      " |\n",
      " |  __init__(self)\n",
      " |      Initialize self.  See help(type(self)) for accurate signature.\n",
      " |\n",
      " |  __iter__(self)\n",
      " |      Allows you to use a response as an iterator.\n",
      " |\n",
      " |  __nonzero__(self)\n",
      " |      Returns True if :attr:`status_code` is less than 400.\n",
      " |\n",
      " |      This attribute checks if the status code of the response is between\n",
      " |      400 and 600 to see if there was a client error or a server error. If\n",
      " |      the status code, is between 200 and 400, this will return True. This\n",
      " |      is **not** a check to see if the response code is ``200 OK``.\n",
      " |\n",
      " |  __repr__(self)\n",
      " |      Return repr(self).\n",
      " |\n",
      " |  __setstate__(self, state)\n",
      " |\n",
      " |  close(self)\n",
      " |      Releases the connection back to the pool. Once this method has been\n",
      " |      called the underlying ``raw`` object must not be accessed again.\n",
      " |\n",
      " |      *Note: Should not normally need to be called explicitly.*\n",
      " |\n",
      " |  iter_content(self, chunk_size=1, decode_unicode=False)\n",
      " |      Iterates over the response data.  When stream=True is set on the\n",
      " |      request, this avoids reading the content at once into memory for\n",
      " |      large responses.  The chunk size is the number of bytes it should\n",
      " |      read into memory.  This is not necessarily the length of each item\n",
      " |      returned as decoding can take place.\n",
      " |\n",
      " |      chunk_size must be of type int or None. A value of None will\n",
      " |      function differently depending on the value of `stream`.\n",
      " |      stream=True will read data as it arrives in whatever size the\n",
      " |      chunks are received. If stream=False, data is returned as\n",
      " |      a single chunk.\n",
      " |\n",
      " |      If decode_unicode is True, content will be decoded using the best\n",
      " |      available encoding based on the response.\n",
      " |\n",
      " |  iter_lines(self, chunk_size=512, decode_unicode=False, delimiter=None)\n",
      " |      Iterates over the response data, one line at a time.  When\n",
      " |      stream=True is set on the request, this avoids reading the\n",
      " |      content at once into memory for large responses.\n",
      " |\n",
      " |      .. note:: This method is not reentrant safe.\n",
      " |\n",
      " |  json(self, **kwargs)\n",
      " |      Returns the json-encoded content of a response, if any.\n",
      " |\n",
      " |      :param \\*\\*kwargs: Optional arguments that ``json.loads`` takes.\n",
      " |      :raises requests.exceptions.JSONDecodeError: If the response body does not\n",
      " |          contain valid json.\n",
      " |\n",
      " |  raise_for_status(self)\n",
      " |      Raises :class:`HTTPError`, if one occurred.\n",
      " |\n",
      " |  ----------------------------------------------------------------------\n",
      " |  Readonly properties defined here:\n",
      " |\n",
      " |  apparent_encoding\n",
      " |      The apparent encoding, provided by the charset_normalizer or chardet libraries.\n",
      " |\n",
      " |  content\n",
      " |      Content of the response, in bytes.\n",
      " |\n",
      " |  is_permanent_redirect\n",
      " |      True if this Response one of the permanent versions of redirect.\n",
      " |\n",
      " |  is_redirect\n",
      " |      True if this Response is a well-formed HTTP redirect that could have\n",
      " |      been processed automatically (by :meth:`Session.resolve_redirects`).\n",
      " |\n",
      " |  links\n",
      " |      Returns the parsed header links of the response, if any.\n",
      " |\n",
      " |  next\n",
      " |      Returns a PreparedRequest for the next request in a redirect chain, if there is one.\n",
      " |\n",
      " |  ok\n",
      " |      Returns True if :attr:`status_code` is less than 400, False if not.\n",
      " |\n",
      " |      This attribute checks if the status code of the response is between\n",
      " |      400 and 600 to see if there was a client error or a server error. If\n",
      " |      the status code is between 200 and 400, this will return True. This\n",
      " |      is **not** a check to see if the response code is ``200 OK``.\n",
      " |\n",
      " |  text\n",
      " |      Content of the response, in unicode.\n",
      " |\n",
      " |      If Response.encoding is None, encoding will be guessed using\n",
      " |      ``charset_normalizer`` or ``chardet``.\n",
      " |\n",
      " |      The encoding of the response content is determined based solely on HTTP\n",
      " |      headers, following RFC 2616 to the letter. If you can take advantage of\n",
      " |      non-HTTP knowledge to make a better guess at the encoding, you should\n",
      " |      set ``r.encoding`` appropriately before accessing this property.\n",
      " |\n",
      " |  ----------------------------------------------------------------------\n",
      " |  Data descriptors defined here:\n",
      " |\n",
      " |  __dict__\n",
      " |      dictionary for instance variables (if defined)\n",
      " |\n",
      " |  __weakref__\n",
      " |      list of weak references to the object (if defined)\n",
      " |\n",
      " |  ----------------------------------------------------------------------\n",
      " |  Data and other attributes defined here:\n",
      " |\n",
      " |  __attrs__ = ['_content', 'status_code', 'headers', 'url', 'history', '...\n",
      "\n"
     ]
    }
   ],
   "source": [
    "# let's see the help on Response object\n",
    "help(response)"
   ]
  },
  {
   "cell_type": "code",
   "execution_count": 57,
   "id": "07c39520-1461-40e3-afaa-2eb2101c19d3",
   "metadata": {},
   "outputs": [
    {
     "data": {
      "text/plain": [
       "200"
      ]
     },
     "execution_count": 57,
     "metadata": {},
     "output_type": "execute_result"
    }
   ],
   "source": [
    "response.status_code"
   ]
  },
  {
   "cell_type": "code",
   "execution_count": 58,
   "id": "43c4f12d-2a8f-46dc-8894-89c2d74b2efc",
   "metadata": {},
   "outputs": [
    {
     "data": {
      "text/plain": [
       "{'content-encoding': 'gzip', 'content-type': 'application/json', 'strict-transport-security': 'max-age=31536000; includeSubdomains;', 'vary': 'Origin', 'x-appservices-request-id': '6524d19c194aa844588827c6', 'x-frame-options': 'DENY', 'date': 'Tue, 10 Oct 2023 04:22:53 GMT', 'content-length': '200', 'x-envoy-upstream-service-time': '909', 'server': 'mdbws', 'x-envoy-decorator-operation': 'baas-main.baas-prod.svc.cluster.local:8086/*'}"
      ]
     },
     "execution_count": 58,
     "metadata": {},
     "output_type": "execute_result"
    }
   ],
   "source": [
    "response.headers"
   ]
  },
  {
   "cell_type": "code",
   "execution_count": 60,
   "id": "5529ca9b-f56a-445f-8648-d49412fdfb29",
   "metadata": {},
   "outputs": [],
   "source": [
    "# status_code 200 is OK\n",
    "if response.status_code == 200:\n",
    "    data = response.json()\n",
    "else:\n",
    "    print(response)"
   ]
  },
  {
   "cell_type": "code",
   "execution_count": 62,
   "id": "5bc54e78-7ea9-4cc7-b8ec-fd58e2819846",
   "metadata": {},
   "outputs": [
    {
     "data": {
      "text/plain": [
       "{'documents': [{'_id': '65246969eff7a7b93ceedc0f',\n",
       "   'name': 'patatas bravas',\n",
       "   'ingredients': ['potato',\n",
       "    'tomato',\n",
       "    'olive oil',\n",
       "    'onion',\n",
       "    'garlic',\n",
       "    'paprika'],\n",
       "   'prep_time': 72},\n",
       "  {'_id': '6524c26c22d249950599ffb1',\n",
       "   'name': 'Fajita',\n",
       "   'ingredients': ['potato', 'onion', 'ground beef', 'oil'],\n",
       "   'prep_time': 55}]}"
      ]
     },
     "execution_count": 62,
     "metadata": {},
     "output_type": "execute_result"
    }
   ],
   "source": [
    "data"
   ]
  },
  {
   "cell_type": "code",
   "execution_count": 67,
   "id": "093b12fa-22d6-4683-9257-de2d560729b6",
   "metadata": {},
   "outputs": [
    {
     "data": {
      "text/plain": [
       "dict"
      ]
     },
     "execution_count": 67,
     "metadata": {},
     "output_type": "execute_result"
    }
   ],
   "source": [
    "# json() method returns python dictionary\n",
    "type(data)"
   ]
  },
  {
   "cell_type": "code",
   "execution_count": 71,
   "id": "9f00747b-75dd-4a78-98e7-501838bbbc39",
   "metadata": {},
   "outputs": [],
   "source": [
    "from pprint import pprint"
   ]
  },
  {
   "cell_type": "code",
   "execution_count": 87,
   "id": "8222ef0c-8491-412d-a32d-1cd99d68b606",
   "metadata": {},
   "outputs": [
    {
     "name": "stdout",
     "output_type": "stream",
     "text": [
      "Recipe: patatas bravas needs following ingredients:\n",
      "\tpotato, tomato, olive oil, onion, garlic, paprika\n",
      "Prep time: 72\n",
      "\n",
      "Recipe: Fajita needs following ingredients:\n",
      "\tpotato, onion, ground beef, oil\n",
      "Prep time: 55\n",
      "\n"
     ]
    }
   ],
   "source": [
    "for obj in data['documents']:\n",
    "    #pprint(obj)\n",
    "    print(f\"Recipe: {obj['name']} needs following ingredients:\")\n",
    "    print('\\t', end= '')\n",
    "    #for ing in obj['ingredients']:\n",
    "    #    print(ing, end=',')\n",
    "    print(', '.join(obj['ingredients']))\n",
    "    print(f'Prep time: {obj[\"prep_time\"]}') \n",
    "    print()"
   ]
  },
  {
   "cell_type": "code",
   "execution_count": 91,
   "id": "8300032c-620c-4b63-baff-73164c87027b",
   "metadata": {},
   "outputs": [],
   "source": [
    "from typing import Dict\n",
    "from typing import Any"
   ]
  },
  {
   "cell_type": "code",
   "execution_count": 101,
   "id": "ac8860c5-0abc-4c3c-9ca2-068aa1e3a3cb",
   "metadata": {},
   "outputs": [],
   "source": [
    "# let's create our own API function to insert the recipe\n",
    "def insertRecipe(session: requests.Session, payload: Dict[str, Any]) -> None:\n",
    "    end_point = 'https://us-west-2.aws.data.mongodb-api.com/app/data-ezpqr/endpoint/data/v1/action/insertOne'\n",
    "    response = session.post(end_point, json=payload)\n",
    "    return response\n",
    "    \n",
    "    "
   ]
  },
  {
   "cell_type": "code",
   "execution_count": 105,
   "id": "b3d176f8-0433-422d-b1de-10b3fc24ef44",
   "metadata": {},
   "outputs": [],
   "source": [
    "payload = {\n",
    "    \"collection\": \"recipes\",\n",
    "    \"database\": \"myDatabase\",\n",
    "    \"dataSource\": \"Cluster0\",\n",
    "    \"document\": {\n",
    "        \"name\": \"Beef Enchilada\",\n",
    "        \"ingredients\": [\n",
    "            \"potato\",\n",
    "            \"onion\",\n",
    "            \"ground beef\",\n",
    "            \"oil\",\n",
    "            \"tortillas\",\n",
    "            \"cheese\"\n",
    "        ],\n",
    "        \"prep_time\": 35\n",
    "    }\n",
    "}"
   ]
  },
  {
   "cell_type": "code",
   "execution_count": 106,
   "id": "b6a3e75e-4844-4f24-8678-2e4fcc4cf402",
   "metadata": {},
   "outputs": [],
   "source": [
    "result = insertRecipe(session, payload)"
   ]
  },
  {
   "cell_type": "code",
   "execution_count": 108,
   "id": "43d17eca-5218-4f4c-9c27-180ef3066766",
   "metadata": {},
   "outputs": [
    {
     "name": "stdout",
     "output_type": "stream",
     "text": [
      "{'insertedId': '6524d8c051cf4db0aa503ec1'}\n"
     ]
    }
   ],
   "source": [
    "# 201 Created Success!\n",
    "if result.status_code == 201:\n",
    "    print(result.json())\n",
    "else:\n",
    "    print(result)"
   ]
  },
  {
   "cell_type": "code",
   "execution_count": null,
   "id": "1806eb89-33b0-447a-9057-441b3cfcba94",
   "metadata": {},
   "outputs": [],
   "source": []
  },
  {
   "cell_type": "code",
   "execution_count": null,
   "id": "dd03a4f9-8cdb-4ee2-a197-edebe3b7ae33",
   "metadata": {},
   "outputs": [],
   "source": []
  }
 ],
 "metadata": {
  "kernelspec": {
   "display_name": "Python 3 (ipykernel)",
   "language": "python",
   "name": "python3"
  },
  "language_info": {
   "codemirror_mode": {
    "name": "ipython",
    "version": 3
   },
   "file_extension": ".py",
   "mimetype": "text/x-python",
   "name": "python",
   "nbconvert_exporter": "python",
   "pygments_lexer": "ipython3",
   "version": "3.12.0"
  }
 },
 "nbformat": 4,
 "nbformat_minor": 5
}
