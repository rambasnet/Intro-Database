{
 "cells": [
  {
   "cell_type": "markdown",
   "id": "2ca6e74b",
   "metadata": {},
   "source": [
    "# CRUD\n",
    "\n",
    "- an acronym that stands for **C**reate, **R**ead, **U**pdate, and **D**elete\n",
    "- represents the four fundamental operations that can be performed on data in a database or a persistent storage system\n",
    "- CRUD serves as a simple way to categorize and describe the basic actions that applications can perform on data. These operations are commonly associated with databases but are also applicable to various types of data storage systems, including APIs, file systems, and more.\n",
    "\n",
    "## Create (C)\n",
    "\n",
    "- this operation involves adding new data or records to a database, etc.\n",
    "- it typically corresponds to the INSERT statement in SQL\n",
    "- creating new records is essential for adding new information to a DB system\n",
    "\n",
    "## Read (R)\n",
    "\n",
    "- the read operation is about retrieving or fetching existing data from a database\n",
    "- this corresponds to the SELECT statement in SQL\n",
    "- reading allows you to access the stored data for viewing or processing\n",
    "\n",
    "## Update (U)\n",
    "\n",
    "- updating involves modifying existing data in a database\n",
    "- this corresponds to the UPDATE statement in SQL\n",
    "- updating is used to change the values of specific attributes in a record\n",
    "\n",
    "## Delete (D)\n",
    "\n",
    "- delete operation is about removing data from a database\n",
    "- this corresponds to the DELETE statement in SQL\n",
    "- Deleting records is used to eliminate information that is no longer needed or relevant\n",
    "\n",
    "CRUD operations are the building blocks for most applications that involve data management and interaction. Nearly all software systems require these basic operations to allow users or processes to interact with stored data. Whether it's a web application, a mobile app, or a desktop program, CRUD operations enable users to manage and manipulate data in a structured and organized manner.\n",
    "\n",
    "\n",
    "\n"
   ]
  },
  {
   "cell_type": "code",
   "execution_count": null,
   "id": "3f85064f",
   "metadata": {},
   "outputs": [],
   "source": []
  }
 ],
 "metadata": {
  "kernelspec": {
   "display_name": "Python 3 (ipykernel)",
   "language": "python",
   "name": "python3"
  },
  "language_info": {
   "codemirror_mode": {
    "name": "ipython",
    "version": 3
   },
   "file_extension": ".py",
   "mimetype": "text/x-python",
   "name": "python",
   "nbconvert_exporter": "python",
   "pygments_lexer": "ipython3",
   "version": "3.10.8"
  }
 },
 "nbformat": 4,
 "nbformat_minor": 5
}
