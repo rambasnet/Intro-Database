{
 "cells": [
  {
   "cell_type": "markdown",
   "id": "5bac2148",
   "metadata": {},
   "source": [
    "# SQL Joins\n",
    "\n",
    "- https://www.w3schools.com/sql/sql_join.asp\n",
    "- DBs are normalized to reduce duplicate data records\n",
    "- records are splitted across tables as they're stored when DB is normalized\n",
    "- when records need to selected, rows across the tables are combined based on some common/related columns\n",
    "\n",
    "## Types of Joins\n",
    "\n",
    "- there are several types of joins: inner join, left join, right join, cross join (full outer join)\n",
    "- https://sqlite.org/syntax/join-operator.html\n",
    "\n",
    "### INNER JOIN\n",
    "\n",
    "- also called just JOIN\n",
    "![Inner Join](https://www.w3schools.com/sql/img_innerjoin.gif)\n",
    "- return records that have matching values in both tables\n",
    "- run the following query on chinook.sqlite database\n",
    "\n",
    "```sql\n",
    "SELECT \n",
    "    albums.Title,\n",
    "    artists.Name\n",
    "FROM \n",
    "    albums\n",
    "INNER JOIN artists \n",
    "    ON artists.ArtistId = albums.ArtistId;\n",
    "```\n",
    "- select Title from albums and Name from artists if common ArtistId is found in both the tables"
   ]
  },
  {
   "cell_type": "code",
   "execution_count": 1,
   "id": "38e68e32",
   "metadata": {},
   "outputs": [],
   "source": [
    "from python import db"
   ]
  },
  {
   "cell_type": "code",
   "execution_count": 2,
   "id": "541c545d",
   "metadata": {},
   "outputs": [],
   "source": [
    "db_file = 'data/chinook.sqlite'"
   ]
  },
  {
   "cell_type": "code",
   "execution_count": 6,
   "id": "86ad1745",
   "metadata": {},
   "outputs": [],
   "source": [
    "select = '''SELECT \n",
    "        albums.Title,\n",
    "        artists.Name\n",
    "    FROM \n",
    "        albums\n",
    "    INNER JOIN artists \n",
    "        ON artists.ArtistId = albums.ArtistId;\n",
    "'''"
   ]
  },
  {
   "cell_type": "code",
   "execution_count": 7,
   "id": "96dc85c8",
   "metadata": {},
   "outputs": [],
   "source": [
    "rows = db.select_all_rows(db_file, select, ())"
   ]
  },
  {
   "cell_type": "code",
   "execution_count": 8,
   "id": "b950092c",
   "metadata": {},
   "outputs": [
    {
     "name": "stdout",
     "output_type": "stream",
     "text": [
      "[('For Those About To Rock We Salute You', 'AC/DC'), ('Balls to the Wall', 'Accept'), ('Restless and Wild', 'Accept'), ('Let There Be Rock', 'AC/DC'), ('Big Ones', 'Aerosmith'), ('Jagged Little Pill', 'Alanis Morissette'), ('Facelift', 'Alice In Chains'), ('Warner 25 Anos', 'Antônio Carlos Jobim'), ('Plays Metallica By Four Cellos', 'Apocalyptica'), ('Audioslave', 'Audioslave')]\n"
     ]
    }
   ],
   "source": [
    "# let's print the first 10 rows\n",
    "print(rows[:10])"
   ]
  },
  {
   "cell_type": "markdown",
   "id": "d78bc33b",
   "metadata": {},
   "source": [
    "## LEFT JOIN\n",
    "\n",
    "- also called LEFT OUTER JOIN\n",
    "![Left join](https://www.w3schools.com/sql/img_leftjoin.gif)\n",
    "- return all records from the left table, and the matched records from the right table\n",
    "- if a row from the left table doesn’t have a matching row in the right table, SQLite includes NULL for the columns of the right table that are being selected\n",
    "\n",
    "```sql\n",
    "SELECT\n",
    "    Name, \n",
    "    Title\n",
    "FROM\n",
    "    artists\n",
    "LEFT JOIN albums ON\n",
    "    artists.ArtistId = albums.ArtistId\n",
    "ORDER BY Name;\n",
    "```\n"
   ]
  },
  {
   "cell_type": "code",
   "execution_count": 9,
   "id": "c0057eef",
   "metadata": {},
   "outputs": [],
   "source": [
    "select = '''\n",
    "    SELECT\n",
    "        Name, \n",
    "        Title\n",
    "    FROM\n",
    "        artists\n",
    "    LEFT JOIN albums ON\n",
    "        artists.ArtistId = albums.ArtistId\n",
    "    ORDER BY Name;\n",
    "'''"
   ]
  },
  {
   "cell_type": "code",
   "execution_count": 10,
   "id": "066602b7",
   "metadata": {},
   "outputs": [],
   "source": [
    "rows = db.select_all_rows(db_file, select, ())"
   ]
  },
  {
   "cell_type": "code",
   "execution_count": 12,
   "id": "377d6828",
   "metadata": {},
   "outputs": [
    {
     "name": "stdout",
     "output_type": "stream",
     "text": [
      "[(None, None), (None, None), (None, None), (None, None), (None, None), (None, None), (None, None), (None, None), (None, None), (None, None), ('A Cor Do Som', None), ('AC/DC', 'For Those About To Rock We Salute You'), ('AC/DC', 'Let There Be Rock'), ('Aaron Copland & London Symphony Orchestra', 'A Copland Celebration, Vol. I'), ('Aaron Goldberg', 'Worlds'), ('Academy of St. Martin in the Fields & Sir Neville Marriner', 'The World of Classical Favourites'), ('Academy of St. Martin in the Fields Chamber Ensemble & Sir Neville Marriner', 'Sir Neville Marriner: A Celebration'), ('Academy of St. Martin in the Fields, John Birch, Sir Neville Marriner & Sylvia McNair', 'Fauré: Requiem, Ravel: Pavane & Others'), ('Academy of St. Martin in the Fields, Sir Neville Marriner & Thurston Dart', 'Bach: Orchestral Suites Nos. 1 - 4'), ('Academy of St. Martin in the Fields, Sir Neville Marriner & William Bennett', None)]\n"
     ]
    }
   ],
   "source": [
    "print(rows[:20])"
   ]
  },
  {
   "cell_type": "markdown",
   "id": "2c476a13",
   "metadata": {},
   "source": [
    "## RIGHT JOIN\n",
    "- also called RIGHT OUTER JOIN\n",
    "\n",
    "![RIGHT JOIN](https://www.w3schools.com/sql/img_rightjoin.gif)\n",
    "- return all records from the right table, and the matched records from the left table\n",
    "- if a row from the right table doesn’t have a matching row in the left table, SQLite includes NULL for the columns of the left table that are being selected\n",
    "\n",
    "```sql\n",
    "SELECT\n",
    "    Name, \n",
    "    Title\n",
    "FROM\n",
    "    artists\n",
    "RIGHT JOIN albums ON\n",
    "    artists.ArtistId = albums.ArtistId\n",
    "ORDER BY Name;\n",
    "```"
   ]
  },
  {
   "cell_type": "code",
   "execution_count": 16,
   "id": "949b99e7",
   "metadata": {},
   "outputs": [],
   "source": [
    "select = '''\n",
    "    SELECT\n",
    "    Name, \n",
    "    Title\n",
    "FROM\n",
    "    artists\n",
    "RIGHT JOIN albums ON\n",
    "    artists.ArtistId = albums.ArtistId\n",
    "ORDER BY Name;\n",
    "'''"
   ]
  },
  {
   "cell_type": "code",
   "execution_count": 17,
   "id": "fa681381",
   "metadata": {},
   "outputs": [],
   "source": [
    "rows = db.select_all_rows(db_file, select, ())"
   ]
  },
  {
   "cell_type": "code",
   "execution_count": 18,
   "id": "593e07c8",
   "metadata": {},
   "outputs": [
    {
     "name": "stdout",
     "output_type": "stream",
     "text": [
      "[('AC/DC', 'For Those About To Rock We Salute You'), ('AC/DC', 'Let There Be Rock'), ('Aaron Copland & London Symphony Orchestra', 'A Copland Celebration, Vol. I'), ('Aaron Goldberg', 'Worlds'), ('Academy of St. Martin in the Fields & Sir Neville Marriner', 'The World of Classical Favourites'), ('Academy of St. Martin in the Fields Chamber Ensemble & Sir Neville Marriner', 'Sir Neville Marriner: A Celebration'), ('Academy of St. Martin in the Fields, John Birch, Sir Neville Marriner & Sylvia McNair', 'Fauré: Requiem, Ravel: Pavane & Others'), ('Academy of St. Martin in the Fields, Sir Neville Marriner & Thurston Dart', 'Bach: Orchestral Suites Nos. 1 - 4'), ('Accept', 'Balls to the Wall'), ('Accept', 'Restless and Wild')]\n"
     ]
    }
   ],
   "source": [
    "print(rows[:10])"
   ]
  },
  {
   "cell_type": "markdown",
   "id": "5ed2dfb8",
   "metadata": {},
   "source": [
    "## FULL OUTER JOIN\n",
    "\n",
    "- also called FULL JOIN\n",
    "![FULL OUTER JOIN](https://www.w3schools.com/sql/img_fulljoin.gif)\n",
    "- returns all matching records from both tables whether the other table matches or not\n",
    "\n",
    "```sql\n",
    "SELECT\n",
    "    Name, \n",
    "    Title\n",
    "FROM\n",
    "    artists\n",
    "FULL OUTER JOIN albums ON\n",
    "    artists.ArtistId = albums.ArtistId\n",
    "ORDER BY Name;\n",
    "```"
   ]
  },
  {
   "cell_type": "code",
   "execution_count": 19,
   "id": "03444b7b",
   "metadata": {},
   "outputs": [],
   "source": [
    "select = '''\n",
    "    SELECT\n",
    "        Name, \n",
    "        Title\n",
    "    FROM\n",
    "        artists\n",
    "    FULL OUTER JOIN albums ON\n",
    "        artists.ArtistId = albums.ArtistId\n",
    "    ORDER BY Name;\n",
    "'''"
   ]
  },
  {
   "cell_type": "code",
   "execution_count": 20,
   "id": "89708ec7",
   "metadata": {},
   "outputs": [],
   "source": [
    "rows = db.select_all_rows(db_file, select, ())"
   ]
  },
  {
   "cell_type": "code",
   "execution_count": 22,
   "id": "e213de14",
   "metadata": {},
   "outputs": [
    {
     "name": "stdout",
     "output_type": "stream",
     "text": [
      "[(None, None), (None, None), (None, None), (None, None), (None, None), (None, None), (None, None), (None, None), (None, None), (None, None), ('A Cor Do Som', None), ('AC/DC', 'For Those About To Rock We Salute You'), ('AC/DC', 'Let There Be Rock'), ('Aaron Copland & London Symphony Orchestra', 'A Copland Celebration, Vol. I'), ('Aaron Goldberg', 'Worlds'), ('Academy of St. Martin in the Fields & Sir Neville Marriner', 'The World of Classical Favourites'), ('Academy of St. Martin in the Fields Chamber Ensemble & Sir Neville Marriner', 'Sir Neville Marriner: A Celebration'), ('Academy of St. Martin in the Fields, John Birch, Sir Neville Marriner & Sylvia McNair', 'Fauré: Requiem, Ravel: Pavane & Others'), ('Academy of St. Martin in the Fields, Sir Neville Marriner & Thurston Dart', 'Bach: Orchestral Suites Nos. 1 - 4'), ('Academy of St. Martin in the Fields, Sir Neville Marriner & William Bennett', None)]\n"
     ]
    }
   ],
   "source": [
    "print(rows[:20])"
   ]
  },
  {
   "cell_type": "code",
   "execution_count": null,
   "id": "9466a168",
   "metadata": {},
   "outputs": [],
   "source": []
  }
 ],
 "metadata": {
  "kernelspec": {
   "display_name": "Python 3 (ipykernel)",
   "language": "python",
   "name": "python3"
  },
  "language_info": {
   "codemirror_mode": {
    "name": "ipython",
    "version": 3
   },
   "file_extension": ".py",
   "mimetype": "text/x-python",
   "name": "python",
   "nbconvert_exporter": "python",
   "pygments_lexer": "ipython3",
   "version": "3.10.8"
  }
 },
 "nbformat": 4,
 "nbformat_minor": 5
}
