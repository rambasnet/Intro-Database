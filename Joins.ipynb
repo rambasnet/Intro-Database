{
 "cells": [
  {
   "cell_type": "markdown",
   "id": "5bac2148",
   "metadata": {},
   "source": [
    "# SQL Joins\n",
    "\n",
    "- https://www.w3schools.com/sql/sql_join.asp\n",
    "- DBs are normalized to reduce duplicate data records\n",
    "- records are splitted across tables as they're stored when DB is normalized\n",
    "- when records need to selected, rows across the tables are combined based on some common/related columns\n",
    "\n",
    "## Types of Joins\n",
    "\n",
    "- there are several types of joins: inner join, left join, right join, cross join (full outer join)\n",
    "- https://sqlite.org/syntax/join-operator.html\n",
    "\n",
    "### INNER JOIN\n",
    "\n",
    "- also called just JOIN\n",
    "![Inner Join](https://www.w3schools.com/sql/img_innerjoin.gif)\n",
    "- return records that have matching values in both tables\n",
    "- run the following query on chinook.sqlite database\n",
    "\n",
    "```sql\n",
    "SELECT \n",
    "    albums.Title,\n",
    "    artists.Name\n",
    "FROM \n",
    "    albums\n",
    "INNER JOIN artists \n",
    "    ON artists.ArtistId = albums.ArtistId;\n",
    "```\n",
    "- select Title from albums and Name from artists if common ArtistId is found in both the tables"
   ]
  },
  {
   "cell_type": "code",
   "execution_count": 5,
   "id": "38e68e32",
   "metadata": {},
   "outputs": [],
   "source": [
    "from python import db"
   ]
  },
  {
   "cell_type": "code",
   "execution_count": 6,
   "id": "541c545d",
   "metadata": {},
   "outputs": [],
   "source": [
    "db_file = 'data/chinook.sqlite'"
   ]
  },
  {
   "cell_type": "code",
   "execution_count": 7,
   "id": "86ad1745",
   "metadata": {},
   "outputs": [],
   "source": [
    "select = '''SELECT \n",
    "        albums.Title,\n",
    "        artists.Name\n",
    "    FROM \n",
    "        albums\n",
    "    INNER JOIN artists \n",
    "        ON artists.ArtistId = albums.ArtistId;\n",
    "'''"
   ]
  },
  {
   "cell_type": "code",
   "execution_count": 9,
   "id": "96dc85c8",
   "metadata": {},
   "outputs": [],
   "source": [
    "rows = db.select_many_rows(db_file, select, ())"
   ]
  },
  {
   "cell_type": "code",
   "execution_count": 11,
   "id": "b950092c",
   "metadata": {},
   "outputs": [
    {
     "name": "stdout",
     "output_type": "stream",
     "text": [
      "[('For Those About To Rock We Salute You', 'AC/DC'), ('Balls to the Wall', 'Accept'), ('Restless and Wild', 'Accept'), ('Let There Be Rock', 'AC/DC'), ('Big Ones', 'Aerosmith'), ('Jagged Little Pill', 'Alanis Morissette'), ('Facelift', 'Alice In Chains'), ('Warner 25 Anos', 'Antônio Carlos Jobim'), ('Plays Metallica By Four Cellos', 'Apocalyptica'), ('Audioslave', 'Audioslave'), ('Out Of Exile', 'Audioslave'), ('BackBeat Soundtrack', 'BackBeat'), ('The Best Of Billy Cobham', 'Billy Cobham'), ('Alcohol Fueled Brewtality Live! [Disc 1]', 'Black Label Society'), ('Alcohol Fueled Brewtality Live! [Disc 2]', 'Black Label Society'), ('Black Sabbath', 'Black Sabbath'), ('Black Sabbath Vol. 4 (Remaster)', 'Black Sabbath'), ('Body Count', 'Body Count'), ('Chemical Wedding', 'Bruce Dickinson'), ('The Best Of Buddy Guy - The Millenium Collection', 'Buddy Guy'), ('Prenda Minha', 'Caetano Veloso'), ('Sozinho Remix Ao Vivo', 'Caetano Veloso'), ('Minha Historia', 'Chico Buarque'), ('Afrociberdelia', 'Chico Science & Nação Zumbi'), ('Da Lama Ao Caos', 'Chico Science & Nação Zumbi'), ('Acústico MTV [Live]', 'Cidade Negra'), ('Cidade Negra - Hits', 'Cidade Negra'), ('Na Pista', 'Cláudio Zoli'), ('Axé Bahia 2001', 'Various Artists'), ('BBC Sessions [Disc 1] [Live]', 'Led Zeppelin'), ('Bongo Fury', 'Frank Zappa & Captain Beefheart'), ('Carnaval 2001', 'Various Artists'), ('Chill: Brazil (Disc 1)', 'Marcos Valle'), ('Chill: Brazil (Disc 2)', 'Antônio Carlos Jobim'), ('Garage Inc. (Disc 1)', 'Metallica'), ('Greatest Hits II', 'Queen'), ('Greatest Kiss', 'Kiss'), ('Heart of the Night', 'Spyro Gyra'), ('International Superhits', 'Green Day'), ('Into The Light', 'David Coverdale'), ('Meus Momentos', 'Gonzaguinha'), ('Minha História', 'Os Mutantes'), ('MK III The Final Concerts [Disc 1]', 'Deep Purple'), ('Physical Graffiti [Disc 1]', 'Led Zeppelin'), ('Sambas De Enredo 2001', 'Various Artists'), ('Supernatural', 'Santana'), ('The Best of Ed Motta', 'Ed Motta'), ('The Essential Miles Davis [Disc 1]', 'Miles Davis'), ('The Essential Miles Davis [Disc 2]', 'Miles Davis'), ('The Final Concerts (Disc 2)', 'Deep Purple'), (\"Up An' Atom\", 'Gene Krupa'), ('Vinícius De Moraes - Sem Limite', 'Toquinho & Vinícius'), ('Vozes do MPB', 'Various Artists'), ('Chronicle, Vol. 1', 'Creedence Clearwater Revival'), ('Chronicle, Vol. 2', 'Creedence Clearwater Revival'), ('Cássia Eller - Coleção Sem Limite [Disc 2]', 'Cássia Eller'), ('Cássia Eller - Sem Limite [Disc 1]', 'Cássia Eller'), ('Come Taste The Band', 'Deep Purple'), ('Deep Purple In Rock', 'Deep Purple'), ('Fireball', 'Deep Purple'), (\"Knocking at Your Back Door: The Best Of Deep Purple in the 80's\", 'Deep Purple'), ('Machine Head', 'Deep Purple'), ('Purpendicular', 'Deep Purple'), ('Slaves And Masters', 'Deep Purple'), ('Stormbringer', 'Deep Purple'), ('The Battle Rages On', 'Deep Purple'), (\"Vault: Def Leppard's Greatest Hits\", 'Def Leppard'), ('Outbreak', 'Dennis Chambers'), ('Djavan Ao Vivo - Vol. 02', 'Djavan'), ('Djavan Ao Vivo - Vol. 1', 'Djavan'), ('Elis Regina-Minha História', 'Elis Regina'), ('The Cream Of Clapton', 'Eric Clapton'), ('Unplugged', 'Eric Clapton'), ('Album Of The Year', 'Faith No More'), ('Angel Dust', 'Faith No More'), ('King For A Day Fool For A Lifetime', 'Faith No More'), ('The Real Thing', 'Faith No More'), ('Deixa Entrar', 'Falamansa'), ('In Your Honor [Disc 1]', 'Foo Fighters'), ('In Your Honor [Disc 2]', 'Foo Fighters'), ('One By One', 'Foo Fighters'), ('The Colour And The Shape', 'Foo Fighters'), ('My Way: The Best Of Frank Sinatra [Disc 1]', 'Frank Sinatra'), ('Roda De Funk', 'Funk Como Le Gusta'), ('As Canções de Eu Tu Eles', 'Gilberto Gil'), ('Quanta Gente Veio Ver (Live)', 'Gilberto Gil'), ('Quanta Gente Veio ver--Bônus De Carnaval', 'Gilberto Gil'), ('Faceless', 'Godsmack'), ('American Idiot', 'Green Day'), ('Appetite for Destruction', \"Guns N' Roses\"), ('Use Your Illusion I', \"Guns N' Roses\"), ('Use Your Illusion II', \"Guns N' Roses\"), ('Blue Moods', 'Incognito'), ('A Matter of Life and Death', 'Iron Maiden'), ('A Real Dead One', 'Iron Maiden'), ('A Real Live One', 'Iron Maiden'), ('Brave New World', 'Iron Maiden'), ('Dance Of Death', 'Iron Maiden'), ('Fear Of The Dark', 'Iron Maiden'), ('Iron Maiden', 'Iron Maiden'), ('Killers', 'Iron Maiden'), ('Live After Death', 'Iron Maiden'), ('Live At Donington 1992 (Disc 1)', 'Iron Maiden'), ('Live At Donington 1992 (Disc 2)', 'Iron Maiden'), ('No Prayer For The Dying', 'Iron Maiden'), ('Piece Of Mind', 'Iron Maiden'), ('Powerslave', 'Iron Maiden'), ('Rock In Rio [CD1]', 'Iron Maiden'), ('Rock In Rio [CD2]', 'Iron Maiden'), ('Seventh Son of a Seventh Son', 'Iron Maiden'), ('Somewhere in Time', 'Iron Maiden'), ('The Number of The Beast', 'Iron Maiden'), ('The X Factor', 'Iron Maiden'), ('Virtual XI', 'Iron Maiden'), ('Sex Machine', 'James Brown'), ('Emergency On Planet Earth', 'Jamiroquai'), ('Synkronized', 'Jamiroquai'), ('The Return Of The Space Cowboy', 'Jamiroquai'), ('Get Born', 'JET'), ('Are You Experienced?', 'Jimi Hendrix'), ('Surfing with the Alien (Remastered)', 'Joe Satriani'), ('Jorge Ben Jor 25 Anos', 'Jorge Ben'), ('Jota Quest-1995', 'Jota Quest'), ('Cafezinho', 'João Suplicy'), ('Living After Midnight', 'Judas Priest'), ('Unplugged [Live]', 'Kiss'), ('BBC Sessions [Disc 2] [Live]', 'Led Zeppelin'), ('Coda', 'Led Zeppelin'), ('Houses Of The Holy', 'Led Zeppelin'), ('In Through The Out Door', 'Led Zeppelin'), ('IV', 'Led Zeppelin'), ('Led Zeppelin I', 'Led Zeppelin'), ('Led Zeppelin II', 'Led Zeppelin'), ('Led Zeppelin III', 'Led Zeppelin'), ('Physical Graffiti [Disc 2]', 'Led Zeppelin'), ('Presence', 'Led Zeppelin'), ('The Song Remains The Same (Disc 1)', 'Led Zeppelin'), ('The Song Remains The Same (Disc 2)', 'Led Zeppelin'), ('A TempestadeTempestade Ou O Livro Dos Dias', 'Legião Urbana'), ('Mais Do Mesmo', 'Legião Urbana'), ('Greatest Hits', 'Lenny Kravitz'), ('Lulu Santos - RCA 100 Anos De Música - Álbum 01', 'Lulu Santos'), ('Lulu Santos - RCA 100 Anos De Música - Álbum 02', 'Lulu Santos'), ('Misplaced Childhood', 'Marillion'), ('Barulhinho Bom', 'Marisa Monte'), ('Seek And Shall Find: More Of The Best (1963-1981)', 'Marvin Gaye'), ('The Best Of Men At Work', 'Men At Work'), ('Black Album', 'Metallica'), ('Garage Inc. (Disc 2)', 'Metallica'), (\"Kill 'Em All\", 'Metallica'), ('Load', 'Metallica'), ('Master Of Puppets', 'Metallica'), ('ReLoad', 'Metallica'), ('Ride The Lightning', 'Metallica'), ('St. Anger', 'Metallica'), ('...And Justice For All', 'Metallica'), ('Miles Ahead', 'Miles Davis'), ('Milton Nascimento Ao Vivo', 'Milton Nascimento'), ('Minas', 'Milton Nascimento'), ('Ace Of Spades', 'Motörhead'), ('Demorou...', 'Mônica Marianno'), ('Motley Crue Greatest Hits', 'Mötley Crüe'), ('From The Muddy Banks Of The Wishkah [Live]', 'Nirvana'), ('Nevermind', 'Nirvana'), ('Compositores', 'O Terço'), ('Olodum', 'Olodum'), ('Acústico MTV', 'Os Paralamas Do Sucesso'), ('Arquivo II', 'Os Paralamas Do Sucesso'), ('Arquivo Os Paralamas Do Sucesso', 'Os Paralamas Do Sucesso'), ('Bark at the Moon (Remastered)', 'Ozzy Osbourne'), ('Blizzard of Ozz', 'Ozzy Osbourne'), ('Diary of a Madman (Remastered)', 'Ozzy Osbourne'), ('No More Tears (Remastered)', 'Ozzy Osbourne'), ('Tribute', 'Ozzy Osbourne'), ('Walking Into Clarksdale', 'Page & Plant'), ('Original Soundtracks 1', 'Passengers'), ('The Beast Live', \"Paul D'Ianno\"), ('Live On Two Legs [Live]', 'Pearl Jam'), ('Pearl Jam', 'Pearl Jam'), ('Riot Act', 'Pearl Jam'), ('Ten', 'Pearl Jam'), ('Vs.', 'Pearl Jam'), ('Dark Side Of The Moon', 'Pink Floyd'), ('Os Cães Ladram Mas A Caravana Não Pára', 'Planet Hemp'), ('Greatest Hits I', 'Queen'), ('News Of The World', 'Queen'), ('Out Of Time', 'R.E.M. Feat. Kate Pearson'), ('Green', 'R.E.M.'), ('New Adventures In Hi-Fi', 'R.E.M.'), ('The Best Of R.E.M.: The IRS Years', 'R.E.M.'), ('Cesta Básica', 'Raimundos'), ('Raul Seixas', 'Raul Seixas'), ('Blood Sugar Sex Magik', 'Red Hot Chili Peppers'), ('By The Way', 'Red Hot Chili Peppers'), ('Californication', 'Red Hot Chili Peppers'), ('Retrospective I (1974-1980)', 'Rush'), ('Santana - As Years Go By', 'Santana'), ('Santana Live', 'Santana'), ('Maquinarama', 'Skank'), ('O Samba Poconé', 'Skank'), ('Judas 0: B-Sides and Rarities', 'Smashing Pumpkins'), ('Rotten Apples: Greatest Hits', 'Smashing Pumpkins'), ('A-Sides', 'Soundgarden'), ('Morning Dance', 'Spyro Gyra'), ('In Step', 'Stevie Ray Vaughan & Double Trouble'), ('Core', 'Stone Temple Pilots'), ('Mezmerize', 'System Of A Down'), ('[1997] Black Light Syndrome', 'Terry Bozzio, Tony Levin & Steve Stevens'), ('Live [Disc 1]', 'The Black Crowes'), ('Live [Disc 2]', 'The Black Crowes'), ('The Singles', 'The Clash'), ('Beyond Good And Evil', 'The Cult'), ('Pure Cult: The Best Of The Cult (For Rockers, Ravers, Lovers & Sinners) [UK]', 'The Cult'), ('The Doors', 'The Doors'), ('The Police Greatest Hits', 'The Police'), ('Hot Rocks, 1964-1971 (Disc 1)', 'The Rolling Stones'), ('No Security', 'The Rolling Stones'), ('Voodoo Lounge', 'The Rolling Stones'), ('Tangents', 'The Tea Party'), ('Transmission', 'The Tea Party'), ('My Generation - The Very Best Of The Who', 'The Who'), ('Serie Sem Limite (Disc 1)', 'Tim Maia'), ('Serie Sem Limite (Disc 2)', 'Tim Maia'), ('Acústico', 'Titãs'), ('Volume Dois', 'Titãs'), ('Battlestar Galactica: The Story So Far', 'Battlestar Galactica'), ('Battlestar Galactica, Season 3', 'Battlestar Galactica'), ('Heroes, Season 1', 'Heroes'), ('Lost, Season 3', 'Lost'), ('Lost, Season 1', 'Lost'), ('Lost, Season 2', 'Lost'), ('Achtung Baby', 'U2'), (\"All That You Can't Leave Behind\", 'U2'), ('B-Sides 1980-1990', 'U2'), ('How To Dismantle An Atomic Bomb', 'U2'), ('Pop', 'U2'), ('Rattle And Hum', 'U2'), ('The Best Of 1980-1990', 'U2'), ('War', 'U2'), ('Zooropa', 'U2'), ('UB40 The Best Of - Volume Two [UK]', 'UB40'), ('Diver Down', 'Van Halen'), ('The Best Of Van Halen, Vol. I', 'Van Halen'), ('Van Halen', 'Van Halen'), ('Van Halen III', 'Van Halen'), ('Contraband', 'Velvet Revolver'), ('Vinicius De Moraes', 'Vinícius De Moraes'), ('Ao Vivo [IMPORT]', 'Zeca Pagodinho'), ('The Office, Season 1', 'The Office'), ('The Office, Season 2', 'The Office'), ('The Office, Season 3', 'The Office'), ('Un-Led-Ed', 'Dread Zeppelin'), ('Battlestar Galactica (Classic), Season 1', 'Battlestar Galactica (Classic)'), ('Aquaman', 'Aquaman'), ('Instant Karma: The Amnesty International Campaign to Save Darfur', 'U2'), ('Speak of the Devil', 'Ozzy Osbourne'), ('20th Century Masters - The Millennium Collection: The Best of Scorpions', 'Scorpions'), ('House of Pain', 'House Of Pain'), ('Radio Brasil (O Som da Jovem Vanguarda) - Seleccao de Henrique Amaro', 'O Rappa'), ('Cake: B-Sides and Rarities', 'Cake'), ('LOST, Season 4', 'Lost'), ('Quiet Songs', 'Aisha Duo'), ('Muso Ko', 'Habib Koité and Bamada'), ('Realize', 'Karsh Kale'), ('Every Kind of Light', 'The Posies'), ('Duos II', 'Luciana Souza/Romero Lubambo'), ('Worlds', 'Aaron Goldberg'), ('The Best of Beethoven', 'Nicolaus Esterhazy Sinfonia'), ('Temple of the Dog', 'Temple of the Dog'), ('Carry On', 'Chris Cornell'), ('Revelations', 'Audioslave'), ('Adorate Deum: Gregorian Chant from the Proper of the Mass', 'Alberto Turco & Nova Schola Gregoriana'), ('Allegri: Miserere', 'Richard Marlow & The Choir of Trinity College, Cambridge'), ('Pachelbel: Canon & Gigue', 'English Concert & Trevor Pinnock'), ('Vivaldi: The Four Seasons', 'Anne-Sophie Mutter, Herbert Von Karajan & Wiener Philharmoniker'), ('Bach: Violin Concertos', 'Hilary Hahn, Jeffrey Kahane, Los Angeles Chamber Orchestra & Margaret Batjer'), ('Bach: Goldberg Variations', 'Wilhelm Kempff'), ('Bach: The Cello Suites', 'Yo-Yo Ma'), ('Handel: The Messiah (Highlights)', 'Scholars Baroque Ensemble'), ('The World of Classical Favourites', 'Academy of St. Martin in the Fields & Sir Neville Marriner'), ('Sir Neville Marriner: A Celebration', 'Academy of St. Martin in the Fields Chamber Ensemble & Sir Neville Marriner'), ('Mozart: Wind Concertos', 'Berliner Philharmoniker, Claudio Abbado & Sabine Meyer'), ('Haydn: Symphonies 99 - 104', 'Royal Philharmonic Orchestra & Sir Thomas Beecham'), ('Beethoven: Symhonies Nos. 5 & 6', 'Orchestre Révolutionnaire et Romantique & John Eliot Gardiner'), ('A Soprano Inspired', 'Britten Sinfonia, Ivor Bolton & Lesley Garrett'), ('Great Opera Choruses', 'Chicago Symphony Chorus, Chicago Symphony Orchestra & Sir Georg Solti'), ('Wagner: Favourite Overtures', 'Sir Georg Solti & Wiener Philharmoniker'), ('Fauré: Requiem, Ravel: Pavane & Others', 'Academy of St. Martin in the Fields, John Birch, Sir Neville Marriner & Sylvia McNair'), ('Tchaikovsky: The Nutcracker', 'London Symphony Orchestra & Sir Charles Mackerras'), ('The Last Night of the Proms', 'Barry Wordsworth & BBC Concert Orchestra'), ('Puccini: Madama Butterfly - Highlights', 'Herbert Von Karajan, Mirella Freni & Wiener Philharmoniker'), ('Holst: The Planets, Op. 32 & Vaughan Williams: Fantasies', 'Eugene Ormandy'), (\"Pavarotti's Opera Made Easy\", 'Luciano Pavarotti'), (\"Great Performances - Barber's Adagio and Other Romantic Favorites for Strings\", 'Leonard Bernstein & New York Philharmonic'), ('Carmina Burana', 'Boston Symphony Orchestra & Seiji Ozawa'), ('A Copland Celebration, Vol. I', 'Aaron Copland & London Symphony Orchestra'), ('Bach: Toccata & Fugue in D Minor', 'Ton Koopman'), ('Prokofiev: Symphony No.1', 'Sergei Prokofiev & Yuri Temirkanov'), ('Scheherazade', 'Chicago Symphony Orchestra & Fritz Reiner'), ('Bach: The Brandenburg Concertos', 'Orchestra of The Age of Enlightenment'), ('Chopin: Piano Concertos Nos. 1 & 2', 'Emanuel Ax, Eugene Ormandy & Philadelphia Orchestra'), ('Mascagni: Cavalleria Rusticana', 'James Levine'), ('Sibelius: Finlandia', 'Berliner Philharmoniker & Hans Rosbaud'), ('Beethoven Piano Sonatas: Moonlight & Pastorale', 'Maurizio Pollini'), ('Great Recordings of the Century - Mahler: Das Lied von der Erde', 'Gustav Mahler'), ('Elgar: Cello Concerto & Vaughan Williams: Fantasias', 'Felix Schmidt, London Symphony Orchestra & Rafael Frühbeck de Burgos'), ('Adams, John: The Chairman Dances', 'Edo de Waart & San Francisco Symphony'), (\"Tchaikovsky: 1812 Festival Overture, Op.49, Capriccio Italien & Beethoven: Wellington's Victory\", 'Antal Doráti & London Symphony Orchestra'), ('Palestrina: Missa Papae Marcelli & Allegri: Miserere', 'Choir Of Westminster Abbey & Simon Preston'), ('Prokofiev: Romeo & Juliet', 'Michael Tilson Thomas & San Francisco Symphony'), ('Strauss: Waltzes', 'Eugene Ormandy'), ('Berlioz: Symphonie Fantastique', 'Michael Tilson Thomas & San Francisco Symphony'), ('Bizet: Carmen Highlights', 'Chor der Wiener Staatsoper, Herbert Von Karajan & Wiener Philharmoniker'), ('English Renaissance', \"The King's Singers\"), ('Handel: Music for the Royal Fireworks (Original Version 1749)', 'English Concert & Trevor Pinnock'), ('Grieg: Peer Gynt Suites & Sibelius: Pelléas et Mélisande', 'Berliner Philharmoniker & Herbert Von Karajan'), ('Mozart Gala: Famous Arias', 'Sir Georg Solti, Sumi Jo & Wiener Philharmoniker'), ('SCRIABIN: Vers la flamme', \"Christopher O'Riley\"), ('Armada: Music from the Courts of England and Spain', 'Fretwork'), ('Mozart: Symphonies Nos. 40 & 41', 'Berliner Philharmoniker & Herbert Von Karajan'), ('Back to Black', 'Amy Winehouse'), ('Frank', 'Amy Winehouse'), ('Carried to Dust (Bonus Track Version)', 'Calexico'), (\"Beethoven: Symphony No. 6 'Pastoral' Etc.\", 'Otto Klemperer & Philharmonia Orchestra'), ('Bartok: Violin & Viola Concertos', 'Yehudi Menuhin'), (\"Mendelssohn: A Midsummer Night's Dream\", 'Philharmonia Orchestra & Sir Neville Marriner'), ('Bach: Orchestral Suites Nos. 1 - 4', 'Academy of St. Martin in the Fields, Sir Neville Marriner & Thurston Dart'), ('Charpentier: Divertissements, Airs & Concerts', 'Les Arts Florissants & William Christie'), ('South American Getaway', 'The 12 Cellists of The Berlin Philharmonic'), ('Górecki: Symphony No. 3', 'Adrian Leaper & Doreen de Feis'), ('Purcell: The Fairy Queen', 'Roger Norrington, London Classical Players'), ('The Ultimate Relexation Album', \"Charles Dutoit & L'Orchestre Symphonique de Montréal\"), ('Purcell: Music for the Queen Mary', 'Equale Brass Ensemble, John Eliot Gardiner & Munich Monteverdi Orchestra and Choir'), ('Weill: The Seven Deadly Sins', \"Kent Nagano and Orchestre de l'Opéra de Lyon\"), ('J.S. Bach: Chaconne, Suite in E Minor, Partita in E Major & Prelude, Fugue and Allegro', 'Julian Bream'), ('Prokofiev: Symphony No.5 & Stravinksy: Le Sacre Du Printemps', 'Berliner Philharmoniker & Herbert Von Karajan'), ('Szymanowski: Piano Works, Vol. 1', 'Martin Roscoe'), ('Nielsen: The Six Symphonies', 'Göteborgs Symfoniker & Neeme Järvi'), (\"Great Recordings of the Century: Paganini's 24 Caprices\", 'Itzhak Perlman'), (\"Liszt - 12 Études D'Execution Transcendante\", 'Michele Campanella'), ('Great Recordings of the Century - Shubert: Schwanengesang, 4 Lieder', 'Gerald Moore'), ('Locatelli: Concertos for Violin, Strings and Continuo, Vol. 3', 'Mela Tenenbaum, Pro Musica Prague & Richard Kapp'), ('Respighi:Pines of Rome', 'Eugene Ormandy'), (\"Schubert: The Late String Quartets & String Quintet (3 CD's)\", 'Emerson String Quartet'), (\"Monteverdi: L'Orfeo\", 'C. Monteverdi, Nigel Rogers - Chiaroscuro; London Baroque; London Cornett & Sackbu'), ('Mozart: Chamber Music', 'Nash Ensemble'), ('Koyaanisqatsi (Soundtrack from the Motion Picture)', 'Philip Glass Ensemble')]\n"
     ]
    }
   ],
   "source": [
    "# let's print the first 10 rows\n",
    "print(rows)"
   ]
  },
  {
   "cell_type": "markdown",
   "id": "d78bc33b",
   "metadata": {},
   "source": [
    "## LEFT JOIN\n",
    "\n",
    "- also called LEFT OUTER JOIN\n",
    "![Left join](https://www.w3schools.com/sql/img_leftjoin.gif)\n",
    "- return all records from the left table, and the matched records from the right table\n",
    "- if a row from the left table doesn’t have a matching row in the right table, SQLite includes NULL for the columns of the right table that are being selected\n",
    "\n",
    "```sql\n",
    "SELECT\n",
    "    Name, \n",
    "    Title\n",
    "FROM\n",
    "    artists\n",
    "LEFT JOIN albums ON\n",
    "    artists.ArtistId = albums.ArtistId\n",
    "ORDER BY Name;\n",
    "```\n"
   ]
  },
  {
   "cell_type": "code",
   "execution_count": 12,
   "id": "c0057eef",
   "metadata": {},
   "outputs": [],
   "source": [
    "select = '''\n",
    "    SELECT\n",
    "        Name, \n",
    "        Title\n",
    "    FROM\n",
    "        artists\n",
    "    LEFT JOIN albums ON\n",
    "        artists.ArtistId = albums.ArtistId\n",
    "    ORDER BY Name;\n",
    "'''"
   ]
  },
  {
   "cell_type": "code",
   "execution_count": 13,
   "id": "066602b7",
   "metadata": {},
   "outputs": [],
   "source": [
    "rows = db.select_many_rows(db_file, select, ())"
   ]
  },
  {
   "cell_type": "code",
   "execution_count": 14,
   "id": "377d6828",
   "metadata": {},
   "outputs": [
    {
     "name": "stdout",
     "output_type": "stream",
     "text": [
      "[(None, None), (None, None), (None, None), (None, None), (None, None), (None, None), (None, None), (None, None), (None, None), (None, None), (None, None), ('A Cor Do Som', None), ('AC/DC', 'For Those About To Rock We Salute You'), ('AC/DC', 'Let There Be Rock'), ('Aaron Copland & London Symphony Orchestra', 'A Copland Celebration, Vol. I'), ('Aaron Goldberg', 'Worlds'), ('Academy of St. Martin in the Fields & Sir Neville Marriner', 'The World of Classical Favourites'), ('Academy of St. Martin in the Fields Chamber Ensemble & Sir Neville Marriner', 'Sir Neville Marriner: A Celebration'), ('Academy of St. Martin in the Fields, John Birch, Sir Neville Marriner & Sylvia McNair', 'Fauré: Requiem, Ravel: Pavane & Others'), ('Academy of St. Martin in the Fields, Sir Neville Marriner & Thurston Dart', 'Bach: Orchestral Suites Nos. 1 - 4')]\n"
     ]
    }
   ],
   "source": [
    "print(rows[:20])"
   ]
  },
  {
   "cell_type": "markdown",
   "id": "2c476a13",
   "metadata": {},
   "source": [
    "## RIGHT JOIN\n",
    "- also called RIGHT OUTER JOIN\n",
    "\n",
    "![RIGHT JOIN](https://www.w3schools.com/sql/img_rightjoin.gif)\n",
    "- return all records from the right table, and the matched records from the left table\n",
    "- if a row from the right table doesn’t have a matching row in the left table, SQLite includes NULL for the columns of the left table that are being selected\n",
    "\n",
    "```sql\n",
    "SELECT\n",
    "    Name, \n",
    "    Title\n",
    "FROM\n",
    "    artists\n",
    "RIGHT JOIN albums ON\n",
    "    artists.ArtistId = albums.ArtistId\n",
    "ORDER BY Name;\n",
    "```"
   ]
  },
  {
   "cell_type": "code",
   "execution_count": 15,
   "id": "949b99e7",
   "metadata": {},
   "outputs": [],
   "source": [
    "select = '''\n",
    "    SELECT\n",
    "    Name, \n",
    "    Title\n",
    "FROM\n",
    "    artists\n",
    "RIGHT JOIN albums ON\n",
    "    artists.ArtistId = albums.ArtistId\n",
    "ORDER BY Name;\n",
    "'''"
   ]
  },
  {
   "cell_type": "code",
   "execution_count": 17,
   "id": "fa681381",
   "metadata": {},
   "outputs": [],
   "source": [
    "rows = db.select_many_rows(db_file, select, ())"
   ]
  },
  {
   "cell_type": "code",
   "execution_count": 18,
   "id": "593e07c8",
   "metadata": {},
   "outputs": [
    {
     "name": "stdout",
     "output_type": "stream",
     "text": [
      "[('AC/DC', 'For Those About To Rock We Salute You'), ('AC/DC', 'Let There Be Rock'), ('Aaron Copland & London Symphony Orchestra', 'A Copland Celebration, Vol. I'), ('Aaron Goldberg', 'Worlds'), ('Academy of St. Martin in the Fields & Sir Neville Marriner', 'The World of Classical Favourites'), ('Academy of St. Martin in the Fields Chamber Ensemble & Sir Neville Marriner', 'Sir Neville Marriner: A Celebration'), ('Academy of St. Martin in the Fields, John Birch, Sir Neville Marriner & Sylvia McNair', 'Fauré: Requiem, Ravel: Pavane & Others'), ('Academy of St. Martin in the Fields, Sir Neville Marriner & Thurston Dart', 'Bach: Orchestral Suites Nos. 1 - 4'), ('Accept', 'Balls to the Wall'), ('Accept', 'Restless and Wild')]\n"
     ]
    }
   ],
   "source": [
    "print(rows[:10])"
   ]
  },
  {
   "cell_type": "markdown",
   "id": "5ed2dfb8",
   "metadata": {},
   "source": [
    "## FULL OUTER JOIN\n",
    "\n",
    "- also called FULL JOIN\n",
    "![FULL OUTER JOIN](https://www.w3schools.com/sql/img_fulljoin.gif)\n",
    "- returns all matching records from both tables whether the other table matches or not\n",
    "\n",
    "```sql\n",
    "SELECT\n",
    "    Name, \n",
    "    Title\n",
    "FROM\n",
    "    artists\n",
    "FULL OUTER JOIN albums ON\n",
    "    artists.ArtistId = albums.ArtistId\n",
    "ORDER BY Name;\n",
    "```"
   ]
  },
  {
   "cell_type": "code",
   "execution_count": 19,
   "id": "03444b7b",
   "metadata": {},
   "outputs": [],
   "source": [
    "select = '''\n",
    "    SELECT\n",
    "        Name, \n",
    "        Title\n",
    "    FROM\n",
    "        artists\n",
    "    FULL OUTER JOIN albums ON\n",
    "        artists.ArtistId = albums.ArtistId\n",
    "    ORDER BY Name;\n",
    "'''"
   ]
  },
  {
   "cell_type": "code",
   "execution_count": 20,
   "id": "89708ec7",
   "metadata": {},
   "outputs": [],
   "source": [
    "rows = db.select_many_rows(db_file, select, ())"
   ]
  },
  {
   "cell_type": "code",
   "execution_count": 21,
   "id": "e213de14",
   "metadata": {},
   "outputs": [
    {
     "name": "stdout",
     "output_type": "stream",
     "text": [
      "[(None, None), (None, None), (None, None), (None, None), (None, None), (None, None), (None, None), (None, None), (None, None), (None, None), (None, None), ('A Cor Do Som', None), ('AC/DC', 'For Those About To Rock We Salute You'), ('AC/DC', 'Let There Be Rock'), ('Aaron Copland & London Symphony Orchestra', 'A Copland Celebration, Vol. I'), ('Aaron Goldberg', 'Worlds'), ('Academy of St. Martin in the Fields & Sir Neville Marriner', 'The World of Classical Favourites'), ('Academy of St. Martin in the Fields Chamber Ensemble & Sir Neville Marriner', 'Sir Neville Marriner: A Celebration'), ('Academy of St. Martin in the Fields, John Birch, Sir Neville Marriner & Sylvia McNair', 'Fauré: Requiem, Ravel: Pavane & Others'), ('Academy of St. Martin in the Fields, Sir Neville Marriner & Thurston Dart', 'Bach: Orchestral Suites Nos. 1 - 4')]\n"
     ]
    }
   ],
   "source": [
    "print(rows[:20])"
   ]
  },
  {
   "cell_type": "code",
   "execution_count": 22,
   "id": "9466a168",
   "metadata": {},
   "outputs": [
    {
     "name": "stdout",
     "output_type": "stream",
     "text": [
      "482\n"
     ]
    }
   ],
   "source": [
    "print(len(rows))"
   ]
  },
  {
   "cell_type": "code",
   "execution_count": null,
   "id": "259ddffb",
   "metadata": {},
   "outputs": [],
   "source": []
  }
 ],
 "metadata": {
  "kernelspec": {
   "display_name": "Python 3 (ipykernel)",
   "language": "python",
   "name": "python3"
  },
  "language_info": {
   "codemirror_mode": {
    "name": "ipython",
    "version": 3
   },
   "file_extension": ".py",
   "mimetype": "text/x-python",
   "name": "python",
   "nbconvert_exporter": "python",
   "pygments_lexer": "ipython3",
   "version": "3.10.8"
  }
 },
 "nbformat": 4,
 "nbformat_minor": 5
}
