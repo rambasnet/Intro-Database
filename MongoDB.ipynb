{
 "cells": [
  {
   "cell_type": "markdown",
   "id": "7d04d94b",
   "metadata": {},
   "source": [
    "# MongoDB\n",
    "\n",
    "- https://www.mongodb.com/\n",
    "\n",
    "- popular open-source NoSQL (non-relational) database management system designed for handling large volumes of unstructured or semi-structured data\n",
    "- often used in modern web and mobile applications, as well as in various other data-intensive use cases\n",
    "    - including content management systems, e-commerce platforms, real-time analytics, and IoT (Internet of Things) applications. Its flexibility, scalability, and ease of use make it a popular choice for developers working with diverse and evolving data requirements\n",
    "\n",
    "## Here are some key characteristics and features of MongoDB:\n",
    "\n",
    "### Document-Oriented\n",
    "\n",
    "- MongoDB stores data in a format called BSON (Binary JSON), which is a binary-encoded serialization of JSON-like documents\n",
    "- these documents can have flexible and varying structures, making it suitable for handling data with changing schemas\n",
    "\n",
    "### Schema-less\n",
    "\n",
    "- MongoDB is schema-less, which means that you can insert data without defining a rigid schema beforehand\n",
    "- this flexibility makes it well-suited for projects where data structures evolve over time\n",
    "\n",
    "## Scalability\n",
    "\n",
    "- MongoDB is designed for horizontal scalability, making it capable of handling large amounts of data and high levels of traffic\n",
    "- It can be used in clusters to distribute data across multiple servers for load balancing and fault tolerance\n",
    "\n",
    "### Rich Query Language\n",
    "- MongoDB provides a powerful query language for querying and retrieving data\n",
    "- You can perform complex queries, including filtering, sorting, and aggregation, using the MongoDB Query Language (MQL)\n",
    "\n",
    "### Indexing\n",
    "- MongoDB supports the creation of indexes on fields in your documents, which can significantly improve query performance\n",
    "\n",
    "### Geospatial Capabilities\n",
    "- MongoDB includes geospatial features, allowing you to perform geospatial queries and store and analyze location-based data\n",
    "\n",
    "### Replication and High Availability\n",
    "- MongoDB supports replica sets, which are groups of MongoDB servers that maintain identical copies of data \n",
    "- this provides data redundancy and high availability in case of server failures\n",
    "\n",
    "### Sharding\n",
    "- MongoDB allows data to be distributed across multiple servers or shards, which can improve performance and scalability even further\n",
    "\n",
    "\n",
    "## MongoDB Document\n",
    "\n",
    "- records in MongoDB are called documents\n",
    "- has structure similar to JSON called BSON (Binary JSON)\n",
    "- e.g.,\n",
    "\n",
    "```json\n",
    "{\n",
    "\ttitle: \"Post Title 1\",\n",
    "\tbody: \"Body of post.\",\n",
    "\tcategory: \"News\",\n",
    "\tlikes: 1,\n",
    "\ttags: [\"news\", \"events\"],\n",
    "\tdate: Date()\n",
    "}\n",
    "```\n",
    "- keys are strings without quotes, and the field values may include numbers, strings, booleans, arrays, or even nested documents\n",
    "\n",
    "## MongoDB Server\n",
    "\n",
    "- can download and install free community edition or use cloub-based Atlas\n",
    "- we'll utilize cloud-based free edition of MongoDB server\n",
    "- use Python PyMongo database driver - [https://www.mongodb.com/docs/drivers/pymongo/](https://www.mongodb.com/docs/drivers/pymongo/)\n",
    "- install pymongo using pip\n",
    "\n",
    "```bash\n",
    "$ pip install pymongo\n",
    "$ python -m pip install pymongo\n",
    "```\n",
    "\n",
    "## Create your free account or signup using GitHub or Google\n",
    "- [https://account.mongodb.com/account/login](https://account.mongodb.com/account/login)\n",
    "\n",
    "### Create Organization\n",
    "\n",
    "- let's call it intro-db\n",
    "\n",
    "### Create New Project\n",
    "\n",
    "- let's call it demo-db\n",
    "\n",
    "### Create Deployment\n",
    "\n",
    "- Pick FREE deployment\n",
    "\n",
    "### Create a db user\n",
    "\n",
    "- give a name such as db-user\n",
    "- use Certificate for authentication\n",
    "- set certificate expiration - 6 months\n",
    "- save the certificate in your system\n",
    "- add your current IP address in list\n",
    "- load sample data\n",
    "\n",
    "### MongoDB ServerAPI docs\n",
    "\n",
    "- [https://pymongo.readthedocs.io/en/stable/api/pymongo/server_api.html](https://pymongo.readthedocs.io/en/stable/api/pymongo/server_api.html)"
   ]
  },
  {
   "cell_type": "code",
   "execution_count": 5,
   "id": "d671bce5-5d21-4628-99ec-008194dffac5",
   "metadata": {},
   "outputs": [],
   "source": [
    "from pymongo import MongoClient\n",
    "from pymongo.server_api import ServerApi"
   ]
  },
  {
   "cell_type": "code",
   "execution_count": 3,
   "id": "94300039-c045-4fa6-8cb6-16e23b062afc",
   "metadata": {},
   "outputs": [],
   "source": [
    "path_to_certificate = 'python/x509-cert-MongoDB-Atlas.pem'"
   ]
  },
  {
   "cell_type": "code",
   "execution_count": 14,
   "id": "af60a179-8290-4377-adf3-7075c30e8a6b",
   "metadata": {},
   "outputs": [],
   "source": [
    "uri = \"mongodb+srv://cluster0.xeszaub.mongodb.net/?authSource=%24external&authMechanism=MONGODB-X509&retryWrites=true&w=majority\""
   ]
  },
  {
   "cell_type": "code",
   "execution_count": 15,
   "id": "33258db7",
   "metadata": {},
   "outputs": [],
   "source": [
    "client = MongoClient(uri,\n",
    "                     tls=True,\n",
    "                     tlsCertificateKeyFile=path_to_certificate,\n",
    "                     server_api=ServerApi('1'))"
   ]
  },
  {
   "cell_type": "code",
   "execution_count": 16,
   "id": "fb43b9fe-60af-4bec-a755-ecfe8e3a79e4",
   "metadata": {},
   "outputs": [
    {
     "name": "stdout",
     "output_type": "stream",
     "text": [
      "0\n"
     ]
    }
   ],
   "source": [
    "db = client['testDB']\n",
    "collection = db['testCol']\n",
    "doc_count = collection.count_documents({})\n",
    "print(doc_count) # Should print 0 as the testDB doesn't exist "
   ]
  },
  {
   "cell_type": "code",
   "execution_count": 12,
   "id": "52d65a29-6c2f-46a5-8301-980efe52b021",
   "metadata": {},
   "outputs": [],
   "source": [
    "# let's connect to sample_airbnb database\n",
    "# this database is generated when you load sample data\n",
    "db = client['sample_airbnb']"
   ]
  },
  {
   "cell_type": "code",
   "execution_count": 9,
   "id": "af11aa61-66f3-4fca-b1d0-0988791bdbde",
   "metadata": {},
   "outputs": [],
   "source": [
    "collection = db['listingsAndReviews']"
   ]
  },
  {
   "cell_type": "code",
   "execution_count": 10,
   "id": "ee0ed326-5601-4c2c-894e-58e4a208ed04",
   "metadata": {},
   "outputs": [],
   "source": [
    "doc_count = collection.count_documents({})"
   ]
  },
  {
   "cell_type": "code",
   "execution_count": 11,
   "id": "4044b4ed-1cd1-4124-9e72-478a7efdea25",
   "metadata": {},
   "outputs": [
    {
     "data": {
      "text/plain": [
       "5555"
      ]
     },
     "execution_count": 11,
     "metadata": {},
     "output_type": "execute_result"
    }
   ],
   "source": [
    "doc_count"
   ]
  },
  {
   "cell_type": "markdown",
   "id": "f7d8c636-7130-44c2-99c9-915632c8ad66",
   "metadata": {},
   "source": [
    "## SQL to MongoDB Mapping Chart\n",
    "\n",
    "- [See docs](https://www.mongodb.com/docs/manual/reference/sql-comparison/)"
   ]
  },
  {
   "cell_type": "code",
   "execution_count": null,
   "id": "2c0aab8f-2c71-4290-b0c5-50c432f9a752",
   "metadata": {},
   "outputs": [],
   "source": []
  }
 ],
 "metadata": {
  "kernelspec": {
   "display_name": "Python 3 (ipykernel)",
   "language": "python",
   "name": "python3"
  },
  "language_info": {
   "codemirror_mode": {
    "name": "ipython",
    "version": 3
   },
   "file_extension": ".py",
   "mimetype": "text/x-python",
   "name": "python",
   "nbconvert_exporter": "python",
   "pygments_lexer": "ipython3",
   "version": "3.12.0"
  }
 },
 "nbformat": 4,
 "nbformat_minor": 5
}
