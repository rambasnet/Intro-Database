{
 "cells": [
  {
   "cell_type": "markdown",
   "id": "8e0173c3",
   "metadata": {},
   "source": [
    "# DB Introduction\n",
    "\n",
    "## Topics\n",
    "\n",
    "- What is a DB?\n",
    "- Different Dypes of DB\n",
    "- Relational Databases\n",
    "- NoSQL Databases\n"
   ]
  },
  {
   "cell_type": "markdown",
   "id": "212626da",
   "metadata": {},
   "source": [
    "## What is a Database (DB)?\n",
    "- database is a structured collection of data \n",
    "- data is organized and stored in a way that allows for efficient storage, retrieval, and management of information\n",
    "- DB serves as a central repository for storing and managing various types of data, such as text, numbers, images, and more\n",
    "- DBs are commonly used in computer systems and software applications to handle large amounts of data and enable users or applications to access and manipulate that data as needed\n",
    "- crucial components of modern software applications, websites, and information systems, enabling efficient data management, storage, and retrieval for a wide range of purposes\n",
    "\n",
    "## Key Features\n",
    "\n",
    "### Data Structure\n",
    "- provide a structured way to store data, often using tables (in relational databases) or other data structures like documents (in NoSQL databases)\n",
    "\n",
    "### Data Integrity\n",
    "- offer mechanisms to ensure data accuracy and consistency \n",
    "- includes enforcing rules, constraints, and validations to prevent incorrect or conflicting data from being stored.\n",
    "\n",
    "### Data Retrieval\n",
    "- enable efficient searching and retrieval of specific pieces of data using queries\n",
    "- allows users or applications to quickly access the information they need\n",
    "\n",
    "### Data Manipulation\n",
    "- support various operations to modify, update, or delete data\n",
    "- users can add new records, modify existing ones, or remove unnecessary data\n",
    "\n",
    "### Data Security\n",
    "- provide access controls to restrict who can view, modify, or delete data\n",
    "- helps protect sensitive information and maintain data privacy\n",
    "\n",
    "### Concurrency Control\n",
    "- handle multiple users or applications accessing and modifying data simultaneously\n",
    "- ensure that data remains consistent even in a multi-user environment\n",
    "\n",
    "### Backup and Recovery\n",
    "- often offer features for creating backups of data and restoring it in case of data loss or system failures\n",
    "\n",
    "## Types of Databases\n",
    "\n",
    "### Relational Databases\n",
    "- use a structured format based on tables, rows, and columns\n",
    "- they use a query language (such as SQL) to manage and retrieve data \n",
    "- Examples include Sqlite, MySQL, PostgreSQL, and Microsoft SQL Server\n",
    "\n",
    "### NoSQL Databases\n",
    "- suitable for handling unstructured or semi-structured data\n",
    "- document-based databases (like MongoDB), key-value stores (like Redis), column-family stores, and graph databases\n"
   ]
  },
  {
   "cell_type": "code",
   "execution_count": null,
   "id": "3d49e4cd",
   "metadata": {},
   "outputs": [],
   "source": []
  }
 ],
 "metadata": {
  "kernelspec": {
   "display_name": "Python 3 (ipykernel)",
   "language": "python",
   "name": "python3"
  },
  "language_info": {
   "codemirror_mode": {
    "name": "ipython",
    "version": 3
   },
   "file_extension": ".py",
   "mimetype": "text/x-python",
   "name": "python",
   "nbconvert_exporter": "python",
   "pygments_lexer": "ipython3",
   "version": "3.10.8"
  }
 },
 "nbformat": 4,
 "nbformat_minor": 5
}
