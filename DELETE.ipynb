{
 "cells": [
  {
   "cell_type": "markdown",
   "id": "c079ee41",
   "metadata": {},
   "source": [
    "# DELETE\n",
    "\n",
    "- the \"D\" in \"CRUD\" operations refers to the action of deleting existing records in a DBMS\n",
    "- allows you to delete one or more rows based on the specified conditions\n",
    "- helps you keep your database up to date by allowing you to delete records that are no longer needed\n",
    "- https://sqlite.org/lang_update.html\n",
    "- syntax:\n",
    "\n",
    "```\n",
    "DELETE FROM table_name\n",
    "WHERE condition;\n",
    "```\n",
    "\n",
    "- optional OREDER BY and LIMI clause can be used but rarely\n",
    "- e.g. query:\n",
    "\n",
    "```sql\n",
    "DELETE FROM employees;\n",
    "```\n",
    "\n",
    "- what do you think will be the result of above query?\n",
    "- NOTE: delete statement is powerful tool for deleting records in a table, so be cautious when using it, especially with the WHERE clause, to ensure that you delete the correct records and values\n",
    "- once DELETE is executed, you can't undo the operation\n",
    "\n",
    "## WHERE\n",
    "\n",
    "- optional clause but used almost all the time with DELETE\n",
    "- used to provide filter/search condition for rows to be deleted by the query\n",
    "    - WHERE clause should uniquely identify the records to be deleted \n",
    "    - Primary Key is primariy used in WHERE clause\n",
    "- e.g.:\n",
    "\n",
    "```sql\n",
    "DELETE employees\n",
    "WHERE EmployeeId = 8;\n",
    "```\n",
    "\n",
    "- run the above query on chinook sqlite db with DBeaver"
   ]
  },
  {
   "cell_type": "markdown",
   "id": "ea4214b0",
   "metadata": {},
   "source": [
    "## DELETE with Python\n",
    "\n",
    "- DELETE doesn't return records but deletes rows from the table\n",
    "- use cursor's execute() method to delete one or more records based on the WHERE clause\n",
    "- must use parameterized query using ? placeholder to use untrusted data as part of the query"
   ]
  },
  {
   "cell_type": "code",
   "execution_count": 1,
   "id": "6d310046",
   "metadata": {},
   "outputs": [],
   "source": [
    "from python import db"
   ]
  },
  {
   "cell_type": "code",
   "execution_count": 2,
   "id": "d0f33bf4",
   "metadata": {},
   "outputs": [],
   "source": [
    "db_file = 'data/chinook.sqlite'"
   ]
  },
  {
   "cell_type": "code",
   "execution_count": 4,
   "id": "5569d681",
   "metadata": {},
   "outputs": [
    {
     "name": "stdout",
     "output_type": "stream",
     "text": [
      "Enter employee id: 9\n"
     ]
    }
   ],
   "source": [
    "emp_id = int(input('Enter employee id: '))"
   ]
  },
  {
   "cell_type": "code",
   "execution_count": 5,
   "id": "2250eec7",
   "metadata": {},
   "outputs": [],
   "source": [
    "query = \"\"\"\n",
    "        DELETE FROM employees\n",
    "        WHERE EmployeeId = ?;\n",
    "    \"\"\""
   ]
  },
  {
   "cell_type": "code",
   "execution_count": 8,
   "id": "1819551a",
   "metadata": {},
   "outputs": [],
   "source": [
    "row_count = db.delete(db_file, query, (emp_id,))"
   ]
  },
  {
   "cell_type": "code",
   "execution_count": 9,
   "id": "b2bb3865",
   "metadata": {},
   "outputs": [
    {
     "name": "stdout",
     "output_type": "stream",
     "text": [
      "0\n"
     ]
    }
   ],
   "source": [
    "print(row_count)"
   ]
  },
  {
   "cell_type": "markdown",
   "id": "aad9567d",
   "metadata": {},
   "source": []
  }
 ],
 "metadata": {
  "kernelspec": {
   "display_name": "Python 3 (ipykernel)",
   "language": "python",
   "name": "python3"
  },
  "language_info": {
   "codemirror_mode": {
    "name": "ipython",
    "version": 3
   },
   "file_extension": ".py",
   "mimetype": "text/x-python",
   "name": "python",
   "nbconvert_exporter": "python",
   "pygments_lexer": "ipython3",
   "version": "3.9.13"
  }
 },
 "nbformat": 4,
 "nbformat_minor": 5
}
